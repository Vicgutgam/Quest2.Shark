{
 "cells": [
  {
   "cell_type": "code",
   "execution_count": 1,
   "id": "3052a188",
   "metadata": {},
   "outputs": [],
   "source": [
    "import seaborn as sns\n",
    "import matplotlib.pyplot as plt\n",
    "import pandas as pd\n",
    "import numpy as np\n",
    "ori_tibu=pd.read_excel('GSAF5.xls')\n",
    "tiburon=ori_tibu"
   ]
  },
  {
   "cell_type": "markdown",
   "id": "78b613c0",
   "metadata": {},
   "source": [
    "1º PASO. Hacemos una copia del contenido."
   ]
  },
  {
   "cell_type": "code",
   "execution_count": 2,
   "id": "ffb772ad",
   "metadata": {},
   "outputs": [],
   "source": [
    "tiburon=ori_tibu"
   ]
  },
  {
   "cell_type": "markdown",
   "id": "fc2974e0",
   "metadata": {},
   "source": [
    "2º PASO: iniciamos la limpieza del mismo. Para ellos pasamos a convertir los nombres de las columnas en minúscolas y sin espacio entre ellos y eliminamos las columnas que no nos sirvan, ya sea porque no tienen contenido o porque durante el análisis no le vamos a usar."
   ]
  },
  {
   "cell_type": "code",
   "execution_count": 3,
   "id": "4926f7b0",
   "metadata": {},
   "outputs": [],
   "source": [
    "tiburon.columns=tiburon.columns.str.lower().str.replace(\" \",\"_\")"
   ]
  },
  {
   "cell_type": "code",
   "execution_count": 4,
   "id": "41ea4853",
   "metadata": {},
   "outputs": [],
   "source": [
    "\n",
    "tiburon = tiburon.drop('unnamed:_11', axis=1)\n",
    "tiburon = tiburon.drop('unnamed:_21', axis=1)\n",
    "tiburon = tiburon.drop('unnamed:_22', axis=1)\n",
    "tiburon = tiburon.drop('case_number', axis=1)\n",
    "tiburon = tiburon.drop('href_formula', axis=1)\n",
    "tiburon = tiburon.drop('pdf', axis=1)\n",
    "tiburon = tiburon.drop('href', axis=1)\n",
    "tiburon = tiburon.drop('original_order', axis=1)\n",
    "tiburon = tiburon.drop('source', axis=1)\n",
    "tiburon = tiburon.drop('case_number.1', axis=1)"
   ]
  },
  {
   "cell_type": "code",
   "execution_count": 5,
   "id": "52b9b997",
   "metadata": {},
   "outputs": [],
   "source": [
    "tiburon.dropna(how='all',inplace=True)"
   ]
  },
  {
   "cell_type": "markdown",
   "id": "e2294014",
   "metadata": {},
   "source": [
    "3º PASO: organizar las columnas y la información que hay en ella."
   ]
  },
  {
   "cell_type": "markdown",
   "id": "b65731c4",
   "metadata": {},
   "source": [
    "<big>Unificacion de valores dentro de la columna SEX</big>"
   ]
  },
  {
   "cell_type": "code",
   "execution_count": 6,
   "id": "00222ca4",
   "metadata": {},
   "outputs": [],
   "source": [
    "tiburon['sex'].replace((' nan','.','lli','N'), 0,inplace=True)\n",
    "tiburon['sex'].replace(('M',' M','M x 2','M '), 2 ,inplace=True)\n",
    "tiburon['sex'].replace(('F'), 1,inplace=True)"
   ]
  },
  {
   "cell_type": "markdown",
   "id": "1dccbd25",
   "metadata": {},
   "source": [
    "<big>Unificacion de valores dentro de la columna INJURY</big>"
   ]
  },
  {
   "cell_type": "code",
   "execution_count": 7,
   "id": "48f80cfd",
   "metadata": {},
   "outputs": [],
   "source": [
    "tiburon['injury'].replace(('PROVOKED INCIDENT'),'Unknown.' ,inplace=True)\n",
    "tiburon['injury'].fillna('Unknown.', inplace=True)\n",
    "tiburon.loc[tiburon['injury'].str.contains('FATAL|No survivors|dead', case=False, na=False), 'injury'] = 'Fatal'\n",
    "tiburon.loc[tiburon['injury'].str.contains('severed|Serious injury|serious injury', case=False, na=False), 'injury'] = 'Severious injury'\n",
    "tiburon.loc[tiburon['injury'].str.contains( 'brok', case=False, na=False), 'injury'] = 'Broken-bones'\n",
    "tiburon.loc[tiburon['injury'].str.contains('lacerations|laceratedLaceration|Lacer', case=False, na=False), 'injury'] = 'Laceraciones'\n",
    "tiburon.loc[tiburon['injury'].str.contains('amputated', case=False, na=False), 'injury'] = 'Amputated'\n",
    "tiburon.loc[tiburon['injury'].str.contains('Bit|Bite|biten|bite|Biten|bitten', case=False, na=False), 'injury'] = 'Bitten'\n",
    "tiburon.loc[tiburon['injury'].str.contains('injury|Injury|injuries|Injuries|injured|wound', case=False, na=False), 'injury'] = 'Injury'\n",
    "tiburon.loc[tiburon['injury'].str.contains('gash|scratch', case=False, na=False), 'injury'] = 'Gash'\n",
    "tiburon.loc[tiburon['injury'].str.contains('nipped', case=False, na=False), 'injury'] = 'Nipped'\n",
    "tiburon.loc[tiburon['injury'].str.contains('Abrasions|abrasions|Abrasion', case=False, na=False), 'injury'] = 'Abrasions'\n",
    "tiburon.loc[tiburon['injury'].str.contains('injuring|abraded|Minor', case=False, na=False), 'injury'] = 'Minor injury'\n",
    "tiburon.loc[tiburon['injury'].str.contains('Brui', case=False, na=False), 'injury'] = 'Bruised'\n",
    "tiburon.loc[tiburon['injury'].str.contains('mort', case=False, na=False), 'injury'] = 'Ataque post-mortem'\n",
    "tiburon.loc[tiburon['injury'].str.contains('Cut', case=False, na=False), 'injury'] = 'Cuts'\n",
    "tiburon.loc[tiburon['injury'].str.contains('kayak|boat|Dinghy', case=False, na=False), 'injury'] = 'Daños materiales'\n",
    "tiburon.loc[tiburon['injury'].str.contains('Puncture|puncture', case=False, na=False), 'injury'] = 'Puncture'\n",
    "tiburon.loc[tiburon['injury'].str.contains('drowning|drowned', case=False, na=False), 'injury'] = 'Drowning'\n",
    "tiburon.loc[tiburon['injury'].str.contains('No Inju|No inury', case=False, na=False), 'injury'] = 'No Injury'\n",
    "causas=['Bitten', 'Injurie', 'Laceraciones', 'Fatal', 'We need more information.', 'Survived', 'Amputated', 'Drowning', 'Minor injury', 'Puncture', 'Cuts', 'Abrasions', 'Gash', 'Broken bones', 'Daños materiales', 'Bruised', 'Nipped', 'No Injury']\n",
    "tiburon['injury'] = tiburon['injury'].apply(lambda x: x if x in  causas else 'Others')"
   ]
  },
  {
   "cell_type": "markdown",
   "id": "af46dd8c",
   "metadata": {},
   "source": [
    "Aquí, procedo a ponerle un valor numérico al tipo de daño. Siendo el fallecimiento la consecuencia más grave y que corresponde a 1 y los daños materiales, los casos cuyos resultados son desconocidos o aquellos cuyos resultados fueron sin daños como 5"
   ]
  },
  {
   "cell_type": "code",
   "execution_count": 8,
   "id": "d73ba729",
   "metadata": {},
   "outputs": [],
   "source": [
    "tiburon['injury'].replace(('Fatal' or 'Drowning'), 0,inplace=True)\n",
    "tiburon['injury'].replace(('Drowning'), 0,inplace=True)\n",
    "tiburon['injury'].replace(('Bitten'), 1 ,inplace=True)\n",
    "tiburon['injury'].replace(('Amputated'), 1 ,inplace=True)\n",
    "tiburon['injury'].replace(('Laceraciones'), 3,inplace=True)\n",
    "tiburon['injury'].replace(('Cuts'),2,inplace=True)\n",
    "tiburon['injury'].replace(('Puncture' ), 2,inplace=True)\n",
    "tiburon['injury'].replace(('Abrasions'),3,inplace=True)\n",
    "tiburon['injury'].replace(('Nipped'), 3,inplace=True)\n",
    "tiburon['injury'].replace(('Bruised'),3,inplace=True)\n",
    "tiburon['injury'].replace(('Gash'), 3,inplace=True)\n",
    "tiburon['injury'].replace(('Daños materiales'), 5,inplace=True)\n",
    "tiburon['injury'].replace(('Others'),5 ,inplace=True)\n",
    "tiburon['injury'].replace(('No Injury'),5 ,inplace=True)\n",
    "tiburon['injury'].replace(('Survived'),5 ,inplace=True)\n",
    "tiburon['injury'].replace(('Minor injury'),4 ,inplace=True)\n"
   ]
  },
  {
   "cell_type": "markdown",
   "id": "4dfd8db0",
   "metadata": {},
   "source": [
    "<big>Unificacion de valores dentro de la columna ACTIVITY</big>"
   ]
  },
  {
   "cell_type": "code",
   "execution_count": 9,
   "id": "e8b5e76d",
   "metadata": {},
   "outputs": [],
   "source": [
    "tiburon.loc[tiburon['activity'].str.contains('Swim', case=False, na=False), 'activity'] = 'Swimming'\n",
    "tiburon.loc[tiburon['activity'].str.contains('Bat', case=False, na=False), 'activity'] = 'Bathing'\n",
    "tiburon.loc[tiburon['activity'].str.contains('Sur', case=False, na=False), 'activity'] = 'Surf'\n",
    "tiburon.loc[tiburon['activity'].str.contains('fis' or 'net', case=False, na=False), 'activity'] = 'Fishing'\n",
    "tiburon.loc[tiburon['activity'].str.contains('div', case=False, na=False), 'activity'] = 'Diving'\n",
    "tiburon.loc[tiburon['activity'].str.contains('Fell', case=False, na=False), 'activity'] = 'Fell into the water '\n",
    "tiburon.loc[tiburon['activity'].str.contains('Flo'or 'Treading water', case=False, na=False), 'activity'] = 'Floating '\n",
    "tiburon.loc[tiburon['activity'].str.contains('Paddle', case=False, na=False), 'activity'] = 'Paddle boarding'\n",
    "tiburon.loc[tiburon['activity'].str.contains('Jum', case=False, na=False), 'activity'] = 'Jumping' \n",
    "tiburon.loc[tiburon['activity'].str.contains('Phot' or 'fil', case=False, na=False), 'activity'] = 'Photography and filming' \n",
    "tiburon.loc[tiburon['activity'].str.contains('Air', case=False, na=False), 'activity'] = 'Air Disaster'\n",
    "tiburon.loc[tiburon['activity'].str.contains('Feed', case=False, na=False), 'activity'] = 'Feeding a shark'\n",
    "tiburon.loc[tiburon['activity'].str.contains('cano', case=False, na=False), 'activity'] = 'Canoe'\n",
    "tiburon.loc[tiburon['activity'].str.contains('Bod', case=False, na=False), 'activity'] = 'Body boarding'\n",
    "tiburon.loc[tiburon['activity'].str.contains('disaster|swamped|Lifesaving', case=False, na=False), 'activity'] = 'Sea disaster'\n",
    "actividades_acuaticas = [\"Surf\",\"Fishing\", \"Swimming\",\"Diving\",\"Bathing\",\"Wading\",\"Snorkeling\", \"Standing\", \"Fell into the water\",\"Body boarding\", \"Sea disaster\", \"Floating\", \"Boogie boarding\", \"Kayaking\", \"Treading water\", \"Paddle boarding\", \"Jumping\",  \"Canoe\", \"Walking\", \"Boogie Boarding\", \"Feeding a shark\", \"Playing\", \"Rowing\", \"Sailing\"]\n",
    "tiburon['activity'] = tiburon['activity'].apply(lambda x: x if x in actividades_acuaticas else 'Others')"
   ]
  },
  {
   "cell_type": "markdown",
   "id": "fc241229",
   "metadata": {},
   "source": [
    "<big>Unificacion de valores dentro de la columna ESPECIES</big>"
   ]
  },
  {
   "cell_type": "code",
   "execution_count": 10,
   "id": "c8ee53ac",
   "metadata": {},
   "outputs": [],
   "source": [
    "tiburon.rename(columns={\"species_\": \"species\"}, inplace = True)\n",
    "tiburon.loc[tiburon['species'].str.contains('whit', case=False, na=False), 'species'] = 'White shark'\n",
    "tiburon.loc[tiburon['species'].str.contains('tiger', case=False, na=False), 'species'] = 'Tiger shark'\n",
    "tiburon.loc[tiburon['species'].str.contains('mak', case=False, na=False), 'species'] = 'Mako shark'\n",
    "tiburon.loc[tiburon['species'].str.contains('ull', case=False, na=False), 'species'] = 'Bull shark'\n",
    "tiburon.loc[tiburon['species'].str.contains('oppe', case=False, na=False), 'species'] = 'Cooper shark'\n",
    "tiburon.loc[tiburon['species'].str.contains('reef', case=False, na=False), 'species'] = 'Grey reef shark'\n",
    "tiburon.loc[tiburon['species'].str.contains('urse', case=False, na=False), 'species'] = 'Nurse shark'\n",
    "tiburon.loc[tiburon['species'].str.contains('beag', case=False, na=False), 'species'] = 'Porbeagle shark'\n",
    "tiburon.loc[tiburon['species'].str.contains('onze', case=False, na=False), 'species'] = 'Bronze whaler shark'\n",
    "tiburon.loc[tiburon['species'].str.contains('lue', case=False, na=False), 'species'] = 'Blue shark.'\n",
    "tiburon.loc[tiburon['species'].str.contains('emon', case=False, na=False), 'species'] = 'Lemon shark.'\n",
    "tiburon.loc[tiburon['species'].str.contains('tip', case=False, na=False), 'species'] = 'Blacktip shark.'\n",
    "tiburon.loc[tiburon['species'].str.contains('pago', case=False, na=False), 'species'] = 'Galapagos shark.'\n",
    "tiburon.loc[tiburon['species'].str.contains('pinner', case=False, na=False), 'species'] = 'Spinner shark.'\n",
    "tiburon.loc[tiburon['species'].str.contains('Dusky', case=False, na=False), 'species'] = 'Dusky shark.'\n",
    "tiburon['species'].fillna('Unknown shark', inplace=True)\n",
    "shark_list = [\"Unknown shark\", \"White shark\", \"We need more information\", \"Tiger shark\",  \"Bull shark\",  \"Blacktip shark\",  \"Nurse shark\",   \"Grey reef shark\",  \"Bronze whaler shark\",  \"Blue shark\",  \"Mako shark\", \"Lemon shark\"]\n",
    "tiburon['species'] = tiburon['species'].apply(lambda x: x if x in shark_list else 'Unknown shark')\n",
    "tiburon.loc[tiburon['species'].str.contains('stionable|prior|nvali|not confirmed', case=False, na=False), 'species'] = 'We need more information.'"
   ]
  },
  {
   "cell_type": "markdown",
   "id": "9a314b72",
   "metadata": {},
   "source": [
    "<big>Unificacion de valores dentro de la columna COUNTRY</big>"
   ]
  },
  {
   "cell_type": "code",
   "execution_count": 11,
   "id": "f00aff42",
   "metadata": {},
   "outputs": [],
   "source": [
    "tiburon['country'] = tiburon['country'].str.lower()\n",
    "tiburon['country'] = tiburon['country'].str.capitalize()\n",
    "tiburon.loc[tiburon['country'].str.contains('rea', case=False, na=False), 'country'] = 'south korea'\n",
    "tiburon.loc[tiburon['country'].str.contains('bri|sco', case=False, na=False), 'country'] = 'great britain'\n",
    "tiburon.loc[tiburon['country'].str.contains('engl' or  'grans'or 'sco', case=False, na=False), 'country'] = 'great britain'\n",
    "tiburon.loc[tiburon['country'].str.contains('sea|ocean', case=False, na=False), 'country'] = 'inteternational waters'\n",
    "tiburon.loc[tiburon['country'].str.contains('elle', case=False, na=False), 'country'] = 'seychelles'\n",
    "tiburon.loc[tiburon['country'].str.contains('ceyl', case=False, na=False), 'country'] = 'sri lanka'\n",
    "tiburon.loc[tiburon['country'].str.contains('PPINES', case=False, na=False), 'country'] = 'philippines'"
   ]
  },
  {
   "cell_type": "markdown",
   "id": "78655bee",
   "metadata": {},
   "source": [
    "<big>Creación de la columna OCEANS AND SEAS</big>"
   ]
  },
  {
   "cell_type": "code",
   "execution_count": 13,
   "id": "d684375d",
   "metadata": {},
   "outputs": [],
   "source": [
    "tiburon['oceans_and_seas'] = tiburon['country']\n",
    "tiburon['oceans_and_seas'] = tiburon['oceans_and_seas'].str.lower()\n",
    "tiburon['oceans_and_seas'] = tiburon['oceans_and_seas'].str.capitalize()\n",
    "Oceano_Indico = ['South Africa', 'Mozambique', 'India', 'Australia', 'Indonesia']\n",
    "Mar_Mediterraneo = ['Spain', 'France', 'Italy', 'Greece', 'Turkey', 'Egypt']\n",
    "Oceano_Pacifico = ['United States', 'philippines','Canada', 'Mexico', 'Japan', 'Australia', 'Chile']\n",
    "Mar_Caribe = ['Cuba', 'Dominican Republic', 'Haiti', 'Jamaica', 'Puerto Rico']\n",
    "Mar_del_Norte = ['United Kingdom', 'Norway', 'Denmark', 'Germany', 'Netherlands', 'Belgium']\n",
    "Oceano_Atlantico = [ \"Usa\", \"United States\", \"Canada\", \"Mexico\", \"Guatemala\", \"Belize\", \"Honduras\", \"Nicaragua\", \"Costa Rica\", \"Panama\",\"Colombia\", \"Venezuela\", \"Guyana\", \"Suriname\", \"French Guiana\", \"Brazil\", \"Uruguay\", \"Argentina\",\"Falkland Islands\", \"South Georgia and the South Sandwich Islands\", \"Chile\",\"United Kingdom\", \"Portugal\", \"Spain\", \"France\", \"Ireland\",\"Norway\", \"Iceland\", \"Greenland\", \"Denmark\", \"Netherlands (Aruba, Curacao, Sint Maarten, Bonaire, Sint Eustatius, Saba)\"]\n",
    "Mar_Baltico = ['Sweden', 'Finland', 'Estonia', 'Latvia', 'Lithuania', 'Poland']\n",
    "Mar_Negro = ['Romania', 'Bulgaria', 'Turkey', 'Ukraine', 'Russia']\n",
    "Mar_China_Meridional = ['Vietnam', 'Philippines', 'Malaysia', 'Indonesia', 'Brunei']\n",
    "Oceano_Artico = ['Canada', 'Greenland', 'Norway', 'Russia', 'United States']\n",
    "Mar_Tasmania = ['Australia', 'New Zealand']\n",
    "Golfo_Persico = ['Iran', 'Iraq', 'Kuwait', 'Saudi Arabia', 'United Arab Emirates']\n",
    "\n",
    "tiburon['oceans_and_seas'] = tiburon['country']\n",
    "tiburon['oceans_and_seas'] = tiburon['oceans_and_seas'].apply(lambda x: x if x not in Golfo_Persico else 'Golfo_Persico')\n",
    "tiburon['oceans_and_seas'] = tiburon['oceans_and_seas'].apply(lambda x: x if x not in Mar_Tasmania else 'Mar_Tasmania')\n",
    "tiburon['oceans_and_seas'] = tiburon['oceans_and_seas'].apply(lambda x: x if x not in Oceano_Artico else 'Oceano_Artico')\n",
    "tiburon['oceans_and_seas'] = tiburon['oceans_and_seas'].apply(lambda x: x if x not in Mar_Tasmania else 'Mar_Tasmania')\n",
    "tiburon['oceans_and_seas'] = tiburon['oceans_and_seas'].apply(lambda x: x if x not in Mar_China_Meridional else 'Mar_China_Meridional')\n",
    "tiburon['oceans_and_seas'] = tiburon['oceans_and_seas'].apply(lambda x: x if x not in Mar_Negro else 'Mar_Negro')\n",
    "tiburon['oceans_and_seas'] = tiburon['oceans_and_seas'].apply(lambda x: x if x not in Mar_Baltico else 'Mar_Baltico')\n",
    "tiburon['oceans_and_seas'] = tiburon['oceans_and_seas'].apply(lambda x: x if x not in Mar_del_Norte else 'Mar_del_Norte')\n",
    "tiburon['oceans_and_seas'] = tiburon['oceans_and_seas'].apply(lambda x: x if x not in Mar_Caribe else 'Mar_Caribe')\n",
    "tiburon['oceans_and_seas'] = tiburon['oceans_and_seas'].apply(lambda x: x if x not in Oceano_Pacifico else 'Oceano_Pacifico')\n",
    "tiburon['oceans_and_seas'] = tiburon['oceans_and_seas'].apply(lambda x: x if x not in Oceano_Artico else 'Oceano_Artico')\n",
    "tiburon['oceans_and_seas'] = tiburon['oceans_and_seas'].apply(lambda x: x if x not in Oceano_Indico else 'Oceano_Indico')\n",
    "tiburon['oceans_and_seas'] = tiburon['oceans_and_seas'].apply(lambda x: x if x not in Mar_Mediterraneo else 'Mar_Mediterraneo')\n",
    "tiburon['oceans_and_seas'] = tiburon['oceans_and_seas'].apply(lambda x: x if x not in Oceano_Atlantico else 'Oceano_Atlantico')                                                            \n",
    "\n"
   ]
  },
  {
   "cell_type": "markdown",
   "id": "694cf24e",
   "metadata": {},
   "source": [
    "<big>Unificacion de valores dentro de la columna AGE</big>"
   ]
  },
  {
   "cell_type": "markdown",
   "id": "362383d8",
   "metadata": {},
   "source": [
    "#Revisión de tabla AGE.\n",
    "En primer lugar apliqué el siguiente código pero me dí cuenta de que era menos funcional en forma de str que como números en si. lO DEJO AQUÍ A MODO DE MARKDOWN ya que puede ser interesante para otros motivos\n",
    "tiburon['age'].fillna('Unknown.', inplace=True)\n",
    "tiburon.loc[pd.to_numeric(tiburon['age'], errors='coerce') <= 18, 'age'] = 'Under 18 years old'\n",
    "tiburon.loc[pd.to_numeric(tiburon['age'], errors='coerce') >= 65, 'age'] = 'Seniors'\n",
    "tiburon.loc[pd.to_numeric(tiburon['age'], errors='coerce') <= 65, 'age'] = 'Adults'\n",
    "\n",
    "tiburon.loc[tiburon['age'].str.contains('Elderly', case=False, na=False), 'age'] = 'Seniors.'\n",
    "tiburon.loc[tiburon['age'].str.contains('30|20|21|33|23|25|36|46|40|50|60|adu|middle', case=False, na=False), 'age'] = 'Adults'\n",
    "tiburon.loc[tiburon['age'].str.contains('7|8|young|teen|month|9|11|12|13|14|15|6½|2½|!6|!2|16', case=False, na=False), 'age'] = 'Under 18 years old'\n",
    "edades=['Under 18 years old', 'Seniors' , 'Adults']\n",
    "tiburon['age'] = tiburon['age'].apply(lambda x: x if x in edades else 'Unknown')\n",
    "tiburon['age'].value_counts()"
   ]
  },
  {
   "cell_type": "code",
   "execution_count": 14,
   "id": "7eabcb8d",
   "metadata": {},
   "outputs": [],
   "source": [
    "tiburon['age'].fillna(0, inplace=True)\n",
    "tiburon['age'] = tiburon['age'].str.replace(\"30s\", \"35\").str.replace(\"20/30\", \"25\").str.replace(\"20s\", \"25\").str.replace(\"!2\", \"2\").str.replace(\"50s\", \"55\").str.replace(\"40s\", \"45\").str.replace(\"teen\", \"15\").str.replace(\"Teen\", \"15\").str.replace(\"M\", \"0\").str.replace(\"!6\", \"6\").str.replace(\"!!\", \"0\").str.replace(\"45 and 15\", \"30\").str.replace(\"28 & 22\", \"25\").str.replace(\"60s\", \"65\").str.replace(\"20's\", \"25\").str.replace(\"9 & 60\", \"35\").str.replace(\"a minor\", \"9\").str.replace(\"18 months\", \"1\").str.replace(\"28 & 26\", \"27\").str.replace(\"18 or 20\", \"19\").str.replace(\"12 or 13\", \"12\").str.replace(\"46 & 34\", \"40\").str.replace(\"23 & 30\", \"26\").str.replace(\"36 & 26\", \"31\").str.replace(\"8 or 10\", \"9\").str.replace(\"\\xa0 \", \"0\").str.replace(\"30 or 36\", \"33\").str.replace(\"6½\", \"6\").str.replace(\"21 & ?\", \"21\").str.replace(\"33 or 37\", \"35\").str.replace(\"mid-30s\", \"35\").str.replace(\"23 & 20\", \"21\").str.replace(\"7      &    31\", \"19\").str.replace(\"20?\", \"20\").str.replace(\"60's\", \"65\").str.replace(\"32 & 30\", \"31\").str.replace(\"16 to 18\", \"17\").str.replace(\"Elderly\", \"0\").str.replace(\"mid-20s\", \"25\").str.replace(\"Ca. 33\", \"33\").str.replace(\"21 or 26\", \"23\").str.replace(\">50\", \"55\").str.replace(\"18 to 22\", \"20\").str.replace(\"adult\", \"0\").str.replace(\"33 & 37\", \"35\").str.replace(\"25 or 28\", \"26\").str.replace(\"? & 27\", \"27\").str.replace(\"24 & 35\", \"29\").str.replace(\"30 & 32\", \"31\").str.replace(\"50 & 30\", \"40\").str.replace(\"17 & 35\", \"26\").str.replace(\"X\", \"0\").str.replace(\"middle-age\", \"40\").str.replace(\"13 or 18\", \"15\").str.replace(\"34 & 19\", \"27\").str.replace(\"33 & 26\", \"29\").str.replace(\"2 to 3 months\", \"0\").str.replace(\"MAKE LINE GREEN\", \"0\").str.replace(\"young\", \"17\").str.replace(\"7 or 8\", \"7\").str.replace(\"17 & 16\", \"16\").str.replace(\"F\", \"0\").str.replace(\"Both 11\", \"11\").str.replace(\"9 or 10\", \"9\").str.replace(\"36 & 23\", \"29\").str.replace(\"A.M.\", \"0\").str.replace(\"?    &   14\", \"14\").str.replace(\"10 or 12\", \"11\").str.replace(\"31 or 33\", \"32\").str.replace(\"2½\", \"2\").str.replace(\"13 or 14\", \"13\")\n",
    "tiburon['age'].fillna(0, inplace=True)\n",
    "tiburon['age'] = tiburon['age'].astype(str)\n",
    "otros = tiburon['age'][~tiburon['age'].str.isnumeric()]\n",
    "tiburon['age'] = tiburon['age'].str.replace(\"15s\", \"15\").str.replace(\"22, 57, 31\", \"36\").str.replace(\"28, 26\", \"27\").str.replace(\"mid-35\", \"35\").str.replace(\"30\", \"30\").str.replace(\"28\", \"28\").str.replace(\"mid-25\", \"25\").str.replace(\"74 \", \"74\").str.replace(\"45 \", \"45\").str.replace(\"20 \", \"20\").str.replace(\"9 & 12\", \"10\").str.replace(\"? & 19\", \"19\").str.replace(\"9 months\", \"1\").str.replace(\"25 to 35\", \"30\").str.replace(\"(0)\", \"0\").str.replace(\"37, 67, 35, 27,  27\", \"38\").str.replace(\"21, 34,29\", \"28\").str.replace(\"40\", \"40\").str.replace(\"0AKE LINE GREEN\", \"0\").str.replace(\"43\", \"43\").str.replace(\"17\", \"17\").str.replace(\"A.0.\", \"0\")\n",
    "tiburon['age'] = tiburon['age'].str.replace('\"\"', \"\")\n",
    "tiburon['age'] = tiburon['age'].str.replace(\"23 & 26\", \"24\").str.replace('\"17\"', \"17\").str.replace('\"40\"', \"40\")\n",
    "tiburon['age'] = tiburon['age'].str.replace(\"  \", \"0\").str.replace(\" 43\", \"43\").str.replace(\" 28\", \"28\").str.replace(\" 30\", \"30\")\n",
    "tiburon['age'] = tiburon['age'].str.replace(\" \", \"0\")\n",
    "tiburon['age'] = tiburon['age'].astype(int)"
   ]
  },
  {
   "cell_type": "markdown",
   "id": "3ade501a",
   "metadata": {},
   "source": [
    "<big>Unificacion de valores dentro de la columna TIME</big>"
   ]
  },
  {
   "cell_type": "code",
   "execution_count": 15,
   "id": "a05d4f3d",
   "metadata": {},
   "outputs": [],
   "source": [
    "tiburon.loc[tiburon['time'].str.contains('00|01|02|03|04|05|06|sunset|daybreak', case=False, na=False), 'time'] = 'Between 00:00 and 6:59'\n",
    "tiburon.loc[tiburon['time'].str.contains('07|08|09|10|11|morning|AM|A.M|Day', case=False, na=False), 'time'] = 'Between 07 and 11:50'\n",
    "tiburon.loc[tiburon['time'].str.contains('12|13|14|15|16|17|18|dusk|after|Midd|unch|P.M', case=False, na=False), 'time'] = 'Between 12 and 18:50'\n",
    "tiburon.loc[tiburon['time'].str.contains('20|21|22|23|19|ark|sundow|awn|nigh|Evening', case=False, na=False), 'time'] = 'Between 19 and 23:59'\n",
    "tiempo=['Between 00:00 and 6:59','Between 19 and 23:59','Between 12 and 18:50','Between 07 and 11:50']\n",
    "tiburon['time'] = tiburon['time'].apply(lambda x: x if x in  tiempo else 'Unknown')\n",
    "tiburon['time'].fillna('Unknown', inplace=True)"
   ]
  },
  {
   "cell_type": "markdown",
   "id": "bd6a2153",
   "metadata": {},
   "source": [
    "<big>Unificacion de valores dentro de la columna YEAR</big>"
   ]
  },
  {
   "cell_type": "code",
   "execution_count": 16,
   "id": "39390bae",
   "metadata": {},
   "outputs": [],
   "source": [
    "tiburon['year'] = tiburon['year'].astype(str)\n",
    "tiburon[\"year\"] = tiburon[\"year\"].str.replace(\".0\", \"\")\n",
    "tiburon.loc[tiburon['year'].str.contains('nan', case=False, na=False), 'year'] = '0'\n",
    "tiburon['year'] = tiburon['year'].astype(int)\n",
    "tiburon['year'] = tiburon['year'].apply(lambda x: 1500 if x <1600 else x)\n",
    "tiburon['year'] = tiburon['year'].apply(lambda x: 1600 if 1600<= x <1700 else x)\n",
    "tiburon['year'] = tiburon['year'].apply(lambda x: 1700 if 1700<=x <1800 else x)\n",
    "tiburon['year'] = tiburon['year'].apply(lambda x: 1800 if 1800<=x <1900 else x)\n",
    "tiburon['year'] = tiburon['year'].apply(lambda x: 1900 if 1900<=x <1950 else x)\n",
    "tiburon['year'] = tiburon['year'].apply(lambda x: 1950 if 1950<=x <2000 else x)\n",
    "tiburon['year'] = tiburon['year'].apply(lambda x: 2000 if 2000<=x <2010 else x)\n",
    "tiburon['year'] = tiburon['year'].apply(lambda x: 2010 if 2010<=x <2020 else x)\n",
    "tiburon['year'] = tiburon['year'].apply(lambda x: 2020 if 2020<=x <2030 else x)"
   ]
  },
  {
   "cell_type": "markdown",
   "id": "d135a3a6",
   "metadata": {},
   "source": [
    "<big>Revisión de valores dentro de la columna NAME</big>"
   ]
  },
  {
   "cell_type": "code",
   "execution_count": 17,
   "id": "ee15990b",
   "metadata": {
    "scrolled": true
   },
   "outputs": [],
   "source": [
    "tiburon['name'].fillna('Unknown', inplace=True)\n",
    "tiburon['name'].replace(('male','female',' male','boy','crew','girl'),'Unknown',inplace=True)\n",
    "tiburon.loc[tiburon['name'].str.contains('males|native|fishermen|women|fisherman|Arab|black|Unidentified|soldier|diver|Anonymous|sailor|child|boat| 0', case=False, na=False), 'name'] = 'Unknown'\n"
   ]
  },
  {
   "cell_type": "markdown",
   "id": "b8c07d6e",
   "metadata": {},
   "source": [
    "INICIO DE LA CREACIÓN DE TABLAS. Para ello, vamos a pasar algunos elementos a valores numericos, los cuales "
   ]
  },
  {
   "cell_type": "code",
   "execution_count": 18,
   "id": "38d9cb11",
   "metadata": {
    "scrolled": false
   },
   "outputs": [
    {
     "data": {
      "text/html": [
       "<div>\n",
       "<style scoped>\n",
       "    .dataframe tbody tr th:only-of-type {\n",
       "        vertical-align: middle;\n",
       "    }\n",
       "\n",
       "    .dataframe tbody tr th {\n",
       "        vertical-align: top;\n",
       "    }\n",
       "\n",
       "    .dataframe thead th {\n",
       "        text-align: right;\n",
       "    }\n",
       "</style>\n",
       "<table border=\"1\" class=\"dataframe\">\n",
       "  <thead>\n",
       "    <tr style=\"text-align: right;\">\n",
       "      <th></th>\n",
       "      <th>sex</th>\n",
       "      <th>time</th>\n",
       "      <th>injury</th>\n",
       "    </tr>\n",
       "  </thead>\n",
       "  <tbody>\n",
       "    <tr>\n",
       "      <th>0</th>\n",
       "      <td>0.0</td>\n",
       "      <td>Between 12 and 18:50</td>\n",
       "      <td>3</td>\n",
       "    </tr>\n",
       "    <tr>\n",
       "      <th>1</th>\n",
       "      <td>0.0</td>\n",
       "      <td>Unknown</td>\n",
       "      <td>10</td>\n",
       "    </tr>\n",
       "    <tr>\n",
       "      <th>2</th>\n",
       "      <td>1.0</td>\n",
       "      <td>Between 00:00 and 6:59</td>\n",
       "      <td>504</td>\n",
       "    </tr>\n",
       "    <tr>\n",
       "      <th>3</th>\n",
       "      <td>1.0</td>\n",
       "      <td>Between 07 and 11:50</td>\n",
       "      <td>244</td>\n",
       "    </tr>\n",
       "    <tr>\n",
       "      <th>4</th>\n",
       "      <td>1.0</td>\n",
       "      <td>Between 12 and 18:50</td>\n",
       "      <td>503</td>\n",
       "    </tr>\n",
       "    <tr>\n",
       "      <th>5</th>\n",
       "      <td>1.0</td>\n",
       "      <td>Between 19 and 23:59</td>\n",
       "      <td>28</td>\n",
       "    </tr>\n",
       "    <tr>\n",
       "      <th>6</th>\n",
       "      <td>1.0</td>\n",
       "      <td>Unknown</td>\n",
       "      <td>672</td>\n",
       "    </tr>\n",
       "    <tr>\n",
       "      <th>7</th>\n",
       "      <td>2.0</td>\n",
       "      <td>Between 00:00 and 6:59</td>\n",
       "      <td>2567</td>\n",
       "    </tr>\n",
       "    <tr>\n",
       "      <th>8</th>\n",
       "      <td>2.0</td>\n",
       "      <td>Between 07 and 11:50</td>\n",
       "      <td>1457</td>\n",
       "    </tr>\n",
       "    <tr>\n",
       "      <th>9</th>\n",
       "      <td>2.0</td>\n",
       "      <td>Between 12 and 18:50</td>\n",
       "      <td>2266</td>\n",
       "    </tr>\n",
       "    <tr>\n",
       "      <th>10</th>\n",
       "      <td>2.0</td>\n",
       "      <td>Between 19 and 23:59</td>\n",
       "      <td>299</td>\n",
       "    </tr>\n",
       "    <tr>\n",
       "      <th>11</th>\n",
       "      <td>2.0</td>\n",
       "      <td>Unknown</td>\n",
       "      <td>6179</td>\n",
       "    </tr>\n",
       "  </tbody>\n",
       "</table>\n",
       "</div>"
      ],
      "text/plain": [
       "    sex                    time  injury\n",
       "0   0.0    Between 12 and 18:50       3\n",
       "1   0.0                 Unknown      10\n",
       "2   1.0  Between 00:00 and 6:59     504\n",
       "3   1.0    Between 07 and 11:50     244\n",
       "4   1.0    Between 12 and 18:50     503\n",
       "5   1.0    Between 19 and 23:59      28\n",
       "6   1.0                 Unknown     672\n",
       "7   2.0  Between 00:00 and 6:59    2567\n",
       "8   2.0    Between 07 and 11:50    1457\n",
       "9   2.0    Between 12 and 18:50    2266\n",
       "10  2.0    Between 19 and 23:59     299\n",
       "11  2.0                 Unknown    6179"
      ]
     },
     "execution_count": 18,
     "metadata": {},
     "output_type": "execute_result"
    }
   ],
   "source": [
    "doble=tiburon.groupby([ \"sex\",'time'])\n",
    "a=doble['injury'].sum()\n",
    "a.reset_index()"
   ]
  },
  {
   "cell_type": "code",
   "execution_count": 26,
   "id": "af90bf60",
   "metadata": {
    "scrolled": true
   },
   "outputs": [
    {
     "data": {
      "text/html": [
       "<div>\n",
       "<style scoped>\n",
       "    .dataframe tbody tr th:only-of-type {\n",
       "        vertical-align: middle;\n",
       "    }\n",
       "\n",
       "    .dataframe tbody tr th {\n",
       "        vertical-align: top;\n",
       "    }\n",
       "\n",
       "    .dataframe thead th {\n",
       "        text-align: right;\n",
       "    }\n",
       "</style>\n",
       "<table border=\"1\" class=\"dataframe\">\n",
       "  <thead>\n",
       "    <tr style=\"text-align: right;\">\n",
       "      <th></th>\n",
       "      <th>count</th>\n",
       "      <th>mean</th>\n",
       "    </tr>\n",
       "    <tr>\n",
       "      <th>time</th>\n",
       "      <th></th>\n",
       "      <th></th>\n",
       "    </tr>\n",
       "  </thead>\n",
       "  <tbody>\n",
       "    <tr>\n",
       "      <th>Between 00:00 and 6:59</th>\n",
       "      <td>1309</td>\n",
       "      <td>2.458365</td>\n",
       "    </tr>\n",
       "    <tr>\n",
       "      <th>Between 07 and 11:50</th>\n",
       "      <td>738</td>\n",
       "      <td>2.421409</td>\n",
       "    </tr>\n",
       "    <tr>\n",
       "      <th>Between 12 and 18:50</th>\n",
       "      <td>1180</td>\n",
       "      <td>2.421186</td>\n",
       "    </tr>\n",
       "    <tr>\n",
       "      <th>Between 19 and 23:59</th>\n",
       "      <td>166</td>\n",
       "      <td>2.156627</td>\n",
       "    </tr>\n",
       "    <tr>\n",
       "      <th>Unknown</th>\n",
       "      <td>3541</td>\n",
       "      <td>2.377859</td>\n",
       "    </tr>\n",
       "  </tbody>\n",
       "</table>\n",
       "</div>"
      ],
      "text/plain": [
       "                        count      mean\n",
       "time                                   \n",
       "Between 00:00 and 6:59   1309  2.458365\n",
       "Between 07 and 11:50      738  2.421409\n",
       "Between 12 and 18:50     1180  2.421186\n",
       "Between 19 and 23:59      166  2.156627\n",
       "Unknown                  3541  2.377859"
      ]
     },
     "execution_count": 26,
     "metadata": {},
     "output_type": "execute_result"
    }
   ],
   "source": [
    "tiburon.groupby('time')['injury'].agg(['count', 'mean'])"
   ]
  },
  {
   "cell_type": "code",
   "execution_count": 27,
   "id": "7aa7d099",
   "metadata": {},
   "outputs": [
    {
     "data": {
      "text/html": [
       "<div>\n",
       "<style scoped>\n",
       "    .dataframe tbody tr th:only-of-type {\n",
       "        vertical-align: middle;\n",
       "    }\n",
       "\n",
       "    .dataframe tbody tr th {\n",
       "        vertical-align: top;\n",
       "    }\n",
       "\n",
       "    .dataframe thead th {\n",
       "        text-align: right;\n",
       "    }\n",
       "</style>\n",
       "<table border=\"1\" class=\"dataframe\">\n",
       "  <thead>\n",
       "    <tr style=\"text-align: right;\">\n",
       "      <th></th>\n",
       "      <th>count</th>\n",
       "      <th>mean</th>\n",
       "    </tr>\n",
       "    <tr>\n",
       "      <th>species</th>\n",
       "      <th></th>\n",
       "      <th></th>\n",
       "    </tr>\n",
       "  </thead>\n",
       "  <tbody>\n",
       "    <tr>\n",
       "      <th>Bronze whaler shark</th>\n",
       "      <td>72</td>\n",
       "      <td>3.069444</td>\n",
       "    </tr>\n",
       "    <tr>\n",
       "      <th>Bull shark</th>\n",
       "      <td>214</td>\n",
       "      <td>2.429907</td>\n",
       "    </tr>\n",
       "    <tr>\n",
       "      <th>Grey reef shark</th>\n",
       "      <td>78</td>\n",
       "      <td>2.525641</td>\n",
       "    </tr>\n",
       "    <tr>\n",
       "      <th>Mako shark</th>\n",
       "      <td>58</td>\n",
       "      <td>2.775862</td>\n",
       "    </tr>\n",
       "    <tr>\n",
       "      <th>Nurse shark</th>\n",
       "      <td>112</td>\n",
       "      <td>3.214286</td>\n",
       "    </tr>\n",
       "    <tr>\n",
       "      <th>Tiger shark</th>\n",
       "      <td>327</td>\n",
       "      <td>2.171254</td>\n",
       "    </tr>\n",
       "    <tr>\n",
       "      <th>Unknown shark</th>\n",
       "      <td>5328</td>\n",
       "      <td>2.395458</td>\n",
       "    </tr>\n",
       "    <tr>\n",
       "      <th>White shark</th>\n",
       "      <td>745</td>\n",
       "      <td>2.292617</td>\n",
       "    </tr>\n",
       "  </tbody>\n",
       "</table>\n",
       "</div>"
      ],
      "text/plain": [
       "                     count      mean\n",
       "species                             \n",
       "Bronze whaler shark     72  3.069444\n",
       "Bull shark             214  2.429907\n",
       "Grey reef shark         78  2.525641\n",
       "Mako shark              58  2.775862\n",
       "Nurse shark            112  3.214286\n",
       "Tiger shark            327  2.171254\n",
       "Unknown shark         5328  2.395458\n",
       "White shark            745  2.292617"
      ]
     },
     "execution_count": 27,
     "metadata": {},
     "output_type": "execute_result"
    }
   ],
   "source": [
    "tiburon.groupby('species')['injury'].agg(['count', 'mean'])"
   ]
  },
  {
   "cell_type": "code",
   "execution_count": 39,
   "id": "0cb039ae",
   "metadata": {},
   "outputs": [
    {
     "data": {
      "text/plain": [
       "<Axes: ylabel='oceans_and_seas'>"
      ]
     },
     "execution_count": 39,
     "metadata": {},
     "output_type": "execute_result"
    },
    {
     "data": {
      "image/png": "[encoded data removed]",
      "text/plain": [
       "<Figure size 640x480 with 1 Axes>"
      ]
     },
     "metadata": {},
     "output_type": "display_data"
    }
   ],
   "source": [
    "tiburonpaises=tiburon['oceans_and_seas'].value_counts()\n",
    "tp=tiburonpaises.head(15)\n",
    "tp.plot.barh()"
   ]
  },
  {
   "cell_type": "code",
   "execution_count": 25,
   "id": "c48f01cf",
   "metadata": {},
   "outputs": [
    {
     "data": {
      "text/plain": [
       "<Axes: ylabel='year'>"
      ]
     },
     "execution_count": 25,
     "metadata": {},
     "output_type": "execute_result"
    },
    {
     "data": {
      "image/png": "[encoded data removed]",
      "text/plain": [
       "<Figure size 640x480 with 1 Axes>"
      ]
     },
     "metadata": {},
     "output_type": "display_data"
    }
   ],
   "source": [
    "t3=tiburon['year'].value_counts()\n",
    "t4=t3.sort_index()\n",
    "t4.plot.barh()"
   ]
  },
  {
   "cell_type": "code",
   "execution_count": 20,
   "id": "e763bcb7",
   "metadata": {},
   "outputs": [
    {
     "data": {
      "text/plain": [
       "<Axes: ylabel='count'>"
      ]
     },
     "execution_count": 20,
     "metadata": {},
     "output_type": "execute_result"
    },
    {
     "data": {
      "image/png": "[encoded data removed]",
      "text/plain": [
       "<Figure size 640x480 with 1 Axes>"
      ]
     },
     "metadata": {},
     "output_type": "display_data"
    }
   ],
   "source": [
    "t2=tiburon.type.value_counts()\n",
    "\n",
    "t2.plot.pie(autopct='1%.1f%%')"
   ]
  }
 ],
 "metadata": {
  "kernelspec": {
   "display_name": "Python 3 (ipykernel)",
   "language": "python",
   "name": "python3"
  },
  "language_info": {
   "codemirror_mode": {
    "name": "ipython",
    "version": 3
   },
   "file_extension": ".py",
   "mimetype": "text/x-python",
   "name": "python",
   "nbconvert_exporter": "python",
   "pygments_lexer": "ipython3",
   "version": "3.11.5"
  }
 },
 "nbformat": 4,
 "nbformat_minor": 5
}
