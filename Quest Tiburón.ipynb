{
 "cells": [
  {
   "cell_type": "code",
   "execution_count": 2,
   "id": "3052a188",
   "metadata": {},
   "outputs": [],
   "source": [
    "import pandas as pd\n",
    "ori_tibu=pd.read_excel('GSAF5.xls')\n",
    "tiburon=ori_tibu"
   ]
  },
  {
   "cell_type": "markdown",
   "id": "78b613c0",
   "metadata": {},
   "source": [
    "1º PASO. Hacemos una copia del contenido."
   ]
  },
  {
   "cell_type": "code",
   "execution_count": 3,
   "id": "ffb772ad",
   "metadata": {},
   "outputs": [],
   "source": [
    "tiburon=ori_tibu"
   ]
  },
  {
   "cell_type": "markdown",
   "id": "fc2974e0",
   "metadata": {},
   "source": [
    "2º PASO: iniciamos la limpieza del mismo. Para ellos pasamos a convertir los nombres de las columnas en minúscolas y sin espacio entre ellos."
   ]
  },
  {
   "cell_type": "code",
   "execution_count": 4,
   "id": "4926f7b0",
   "metadata": {},
   "outputs": [],
   "source": [
    "tiburon.columns=tiburon.columns.str.lower().str.replace(\" \",\"_\")"
   ]
  },
  {
   "cell_type": "code",
   "execution_count": 5,
   "id": "1e5b5a3f",
   "metadata": {},
   "outputs": [],
   "source": [
    "#Vamos a ver si encontramos líneas completas vacías o duplicados."
   ]
  },
  {
   "cell_type": "code",
   "execution_count": 6,
   "id": "52b9b997",
   "metadata": {},
   "outputs": [],
   "source": [
    "tiburon.dropna(how='all',inplace=True)"
   ]
  },
  {
   "cell_type": "markdown",
   "id": "e2294014",
   "metadata": {},
   "source": [
    "3º PASO: organizar las columnas y la información que hay en ella."
   ]
  },
  {
   "cell_type": "code",
   "execution_count": 19,
   "id": "00222ca4",
   "metadata": {},
   "outputs": [],
   "source": [
    "#Unificacion de valores dentro de la columna SEX\n",
    "tiburon['sex'].replace(('M',' M','M x 2'), 'M',inplace=True)\n"
   ]
  },
  {
   "cell_type": "code",
   "execution_count": 33,
   "id": "b0f94d32",
   "metadata": {},
   "outputs": [
    {
     "data": {
      "text/plain": [
       "injury\n",
       "FATAL                                                                                        860\n",
       "Foot bitten                                                                                  100\n",
       "Survived                                                                                      97\n",
       "No injury                                                                                     85\n",
       "Leg bitten                                                                                    81\n",
       "                                                                                            ... \n",
       "Multiple bites to foot after jumping off surfboard onto shark PROVOKED INCIDENT                1\n",
       "Shallow  lacerations to left  thigh PROVOKED INCIDENT                                          1\n",
       "Bitten on finger                                                                               1\n",
       "Hand & foot lacerated,  lower left leg severely bitten, necessitating surgical amputation      1\n",
       "FATAL. \"Shark bit him in half, carrying away the lower extremities\"                            1\n",
       "Name: count, Length: 4077, dtype: int64"
      ]
     },
     "execution_count": 33,
     "metadata": {},
     "output_type": "execute_result"
    }
   ],
   "source": [
    "#Es interesante para ver la evolución del trabajo sobre la muestra.\n",
    "tiburon['injury'].value_counts()"
   ]
  },
  {
   "cell_type": "code",
   "execution_count": 34,
   "id": "6c1f5185",
   "metadata": {},
   "outputs": [],
   "source": [
    "#Unificacion de valores dentro de la columna INJURY\n",
    "tiburon.loc[tiburon['injury'].str.contains('FATAL', case=False, na=False), 'injury'] = 'FATAL'\n",
    "tiburon.loc[tiburon['injury'].str.contains('No survivors', case=False, na=False), 'injury'] = 'FATAL'\n",
    "tiburon.loc[tiburon['injury'].str.contains('dead', case=False, na=False), 'injury'] = 'FATAL'\n",
    "\n",
    "tiburon.loc[tiburon['injury'].str.contains('remain', case=False, na=False), 'injury'] = 'Remains found. We need more information.'\n",
    "tiburon.loc[tiburon['injury'].str.contains('not recovered', case=False, na=False), 'injury'] = 'Remains found. We need more information.'\n",
    "\n",
    "tiburon.loc[tiburon['injury'].str.contains('severed', case=False, na=False), 'injury'] = 'Severious injury'\n",
    "tiburon.loc[tiburon['injury'].str.contains('Serious injury', case=False, na=False), 'injury'] = 'Serious injury'\n",
    "tiburon.loc[tiburon['injury'].str.contains( 'serious injury', case=False, na=False), 'injury'] = 'Serious injury'\n",
    "\n",
    "tiburon.loc[tiburon['injury'].str.contains( 'brok', case=False, na=False), 'injury'] = 'Broken bones'\n",
    "\n",
    "tiburon.loc[tiburon['injury'].str.contains('lacerations', case=False, na=False), 'injury'] = 'Laceraciones'\n",
    "tiburon.loc[tiburon['injury'].str.contains('lacerated', case=False, na=False), 'injury'] = 'Laceraciones'\n",
    "tiburon.loc[tiburon['injury'].str.contains('Laceration', case=False, na=False), 'injury'] = 'Laceraciones'\n",
    "tiburon.loc[tiburon['injury'].str.contains('Laceration', case=False, na=False), 'injury'] = 'Laceraciones'\n",
    "\n",
    "tiburon.loc[tiburon['injury'].str.contains('amputated', case=False, na=False), 'injury'] = 'Amputated'\n",
    "\n",
    "\n",
    "tiburon.loc[tiburon['injury'].str.contains('biten', case=False, na=False), 'injury'] = 'Bitten'\n",
    "tiburon.loc[tiburon['injury'].str.contains('bitten', case=False, na=False), 'injury'] = 'Bitten'\n",
    "tiburon.loc[tiburon['injury'].str.contains('foot bitten', case=False, na=False), 'injury'] = 'Bitten'\n",
    "tiburon.loc[tiburon['injury'].str.contains('Leg bitten', case=False, na=False), 'injury'] = 'Bitten'\n",
    "tiburon.loc[tiburon['injury'].str.contains('Left foot bitten', case=False, na=False), 'injury'] = 'Bitten'\n",
    "tiburon.loc[tiburon['injury'].str.contains('Right foot bitten', case=False, na=False), 'injury'] = 'Bitten'\n",
    "tiburon.loc[tiburon['injury'].str.contains('foot bitten', case=False, na=False), 'injury'] = 'Bitten'\n",
    "tiburon.loc[tiburon['injury'].str.contains('Left arm bitten ', case=False, na=False), 'injury'] = 'Bitten'\n",
    "tiburon.loc[tiburon['injury'].str.contains('Right calf bitten', case=False, na=False), 'injury'] = 'Bitten'\n",
    "tiburon.loc[tiburon['injury'].str.contains('Ankle bitten', case=False, na=False), 'injury'] = 'Bitten'\n",
    "tiburon.loc[tiburon['injury'].str.contains('Thigh bitten', case=False, na=False), 'injury'] = 'Bitten'\n",
    "tiburon.loc[tiburon['injury'].str.contains('Arm bitten', case=False, na=False), 'injury'] = 'Bitten'\n",
    "tiburon.loc[tiburon['injury'].str.contains('Torso bitten', case=False, na=False), 'injury'] = 'Bitten'\n",
    "tiburon.loc[tiburon['injury'].str.contains('Knee bitten', case=False, na=False), 'injury'] = 'Bitten'\n",
    "tiburon.loc[tiburon['injury'].str.contains('Severe bites', case=False, na=False), 'injury'] = 'Bitten'\n",
    "tiburon.loc[tiburon['injury'].str.contains('Multiple bites', case=False, na=False), 'injury'] = 'Bitten'\n",
    "tiburon.loc[tiburon['injury'].str.contains('Legs bitten', case=False, na=False), 'injury'] = 'Bitten'\n",
    "tiburon.loc[tiburon['injury'].str.contains('Heel bitten', case=False, na=False), 'injury'] = 'Bitten'\n",
    "tiburon.loc[tiburon['injury'].str.contains('Calf bitten', case=False, na=False), 'injury'] = 'Bitten'\n",
    "tiburon.loc[tiburon['injury'].str.contains('Buttock bitten', case=False, na=False), 'injury'] = 'Bitten'\n",
    "tiburon.loc[tiburon['injury'].str.contains('Bite', case=False, na=False), 'injury'] = 'Bitten'\n",
    "tiburon.loc[tiburon['injury'].str.contains('Bit', case=False, na=False), 'injury'] = 'Bitten'\n",
    "\n",
    "tiburon.loc[tiburon['injury'].str.contains('Injury|injuries|Injuries|injured|wound', case=False, na=False), 'injury'] = 'Injurie'\n",
    "\n",
    "\n",
    "tiburon.loc[tiburon['injury'].str.contains('gash', case=False, na=False), 'injury'] = 'Gash'\n",
    "\n",
    "tiburon.loc[tiburon['injury'].str.contains('scratch', case=False, na=False), 'injury'] = 'Gash'\n",
    "\n",
    "tiburon.loc[tiburon['injury'].str.contains('nipped', case=False, na=False), 'injury'] = 'Nipped'\n",
    "\n",
    "tiburon.loc[tiburon['injury'].str.contains('Abrasions', case=False, na=False), 'injury'] = 'Abrasions'\n",
    "tiburon.loc[tiburon['injury'].str.contains('abrasions', case=False, na=False), 'injury'] = 'Abrasions'\n",
    "tiburon.loc[tiburon['injury'].str.contains('Abrasion', case=False, na=False), 'injury'] = 'Abrasions'\n",
    "\n",
    "tiburon.loc[tiburon['injury'].str.contains('injuring', case=False, na=False), 'injury'] = 'Minor injury'\n",
    "tiburon.loc[tiburon['injury'].str.contains('abraded', case=False, na=False), 'injury'] = 'Minor injury'\n",
    "tiburon.loc[tiburon['injury'].str.contains('Minor', case=False, na=False), 'injury'] = 'Minor injury'\n",
    "\n",
    "tiburon.loc[tiburon['injury'].str.contains('Brui', case=False, na=False), 'injury'] = 'Bruised'\n",
    "\n",
    "tiburon.loc[tiburon['injury'].str.contains('mort', case=False, na=False), 'injury'] = 'Ataque post-mortem'\n",
    "\n",
    "tiburon.loc[tiburon['injury'].str.contains('Cut', case=False, na=False), 'injury'] = 'Cuts'\n",
    "tiburon.loc[tiburon['injury'].str.contains('Cut', case=False, na=False), 'injury'] = 'Cuts'\n",
    "\n",
    "tiburon.loc[tiburon['injury'].str.contains('Disappeared', case=False, na=False), 'injury'] = 'Disappeared. Lack of information about death'\n",
    "\n",
    "tiburon.loc[tiburon['injury'].str.contains('kayak', case=False, na=False), 'injury'] = 'Daños materiales'\n",
    "tiburon.loc[tiburon['injury'].str.contains('boat', case=False, na=False), 'injury'] = 'Daños materiales'\n",
    "tiburon.loc[tiburon['injury'].str.contains('Dinghy', case=False, na=False), 'injury'] = 'Daños materiales'\n",
    "\n",
    "tiburon.loc[tiburon['injury'].str.contains('Puncture', case=False, na=False), 'injury'] = 'Puncture'\n",
    "tiburon.loc[tiburon['injury'].str.contains('puncture', case=False, na=False), 'injury'] = 'Puncture'\n",
    "\n",
    "tiburon.loc[tiburon['injury'].str.contains('drowning', case=False, na=False), 'injury'] = 'Drowning'\n",
    "tiburon.loc[tiburon['injury'].str.contains('drowned', case=False, na=False), 'injury'] = 'Drowning'\n",
    "\n",
    "tiburon.loc[tiburon['injury'].str.contains('No Injury', case=False, na=False), 'injury'] = 'No Injury'\n",
    "tiburon.loc[tiburon['injury'].str.contains('No inury', case=False, na=False), 'injury'] = 'No Injury'\n",
    "\n",
    "tiburon.loc[tiburon['injury'].str.contains('Missing', case=False, na=False), 'injury'] = 'No details'\n",
    "tiburon.loc[tiburon['injury'].str.contains('Unknown', case=False, na=False), 'injury'] = 'No details'\n",
    "tiburon.loc[tiburon['injury'].str.contains('thought', case=False, na=False), 'injury'] = 'No details'\n",
    "tiburon.loc[tiburon['injury'].str.contains('detail', case=False, na=False), 'injury'] = 'No details'\n",
    "tiburon.loc[tiburon['injury'].str.contains('prior to death', case=False, na=False), 'injury'] = 'Shark involvement prior to death unconfirmed'"
   ]
  },
  {
   "cell_type": "code",
   "execution_count": 35,
   "id": "30d9081a",
   "metadata": {},
   "outputs": [
    {
     "data": {
      "text/plain": [
       "injury\n",
       "Bitten                                                                                                         1707\n",
       "FATAL                                                                                                          1441\n",
       "Injurie                                                                                                        1424\n",
       "Laceraciones                                                                                                   1380\n",
       "Survived                                                                                                         97\n",
       "Remains found. We need more information.                                                                         79\n",
       "No details                                                                                                       71\n",
       "Amputated                                                                                                        69\n",
       "Drowning                                                                                                         64\n",
       "Cuts                                                                                                             43\n",
       "Minor injury                                                                                                     42\n",
       "Puncture                                                                                                         41\n",
       "Abrasions                                                                                                        39\n",
       "Gash                                                                                                             32\n",
       "Broken bones                                                                                                     27\n",
       "Daños materiales                                                                                                 26\n",
       "Bruised                                                                                                          20\n",
       "Nipped                                                                                                           19\n",
       "Disappeared. Lack of information about death                                                                     18\n",
       "Shark involvement prior to death unconfirmed                                                                     16\n",
       "PROVOKED INCIDENT                                                                                                 6\n",
       "No Injury                                                                                                         5\n",
       "Ataque post-mortem                                                                                                5\n",
       "Recovered                                                                                                         4\n",
       "Shark involvement not confirmed                                                                                   3\n",
       "Recorded as PROVOKED INCIDENT                                                                                     2\n",
       "Sharks were numerous & took corpses but made no attempts to harm the survivors.                                   1\n",
       "Of the 1,429 people on board, only 448 survived. Sharks were attacking survivors as they were being rescued       1\n",
       "Suit ripped                                                                                                       1\n",
       "Shark involvement  unconfirmed                                                                                    1\n",
       "Name: count, dtype: int64"
      ]
     },
     "execution_count": 35,
     "metadata": {},
     "output_type": "execute_result"
    }
   ],
   "source": [
    "tiburon['injury'].value_counts().head(30)"
   ]
  },
  {
   "cell_type": "code",
   "execution_count": 36,
   "id": "e8b5e76d",
   "metadata": {},
   "outputs": [],
   "source": [
    "#Unificacion de valores dentro de la columna ACTIVITY\n",
    "tiburon.loc[tiburon['activity'].str.contains('Swim', case=False, na=False), 'activity'] = 'Swimming'\n",
    "tiburon.loc[tiburon['activity'].str.contains('Bat', case=False, na=False), 'activity'] = 'Bathing'\n",
    "tiburon.loc[tiburon['activity'].str.contains('Sur', case=False, na=False), 'activity'] = 'Surf'\n",
    "tiburon.loc[tiburon['activity'].str.contains('fis' or 'net', case=False, na=False), 'activity'] = 'Fishing'\n",
    "\n",
    "tiburon.loc[tiburon['activity'].str.contains('div', case=False, na=False), 'activity'] = 'Diving'\n",
    "tiburon.loc[tiburon['activity'].str.contains('Fell', case=False, na=False), 'activity'] = 'Fell into the water '\n",
    "tiburon.loc[tiburon['activity'].str.contains('Flo'or 'Treading water', case=False, na=False), 'activity'] = 'Floating '\n",
    "\n",
    "tiburon.loc[tiburon['activity'].str.contains('Paddle', case=False, na=False), 'activity'] = 'Paddle boarding'\n",
    "tiburon.loc[tiburon['activity'].str.contains('Jum', case=False, na=False), 'activity'] = 'Jumping' \n",
    "tiburon.loc[tiburon['activity'].str.contains('Phot' or 'fil', case=False, na=False), 'activity'] = 'Photography and filming' \n",
    "\n",
    "tiburon.loc[tiburon['activity'].str.contains('Air', case=False, na=False), 'activity'] = 'Air Disaster'\n",
    "tiburon.loc[tiburon['activity'].str.contains('Feed', case=False, na=False), 'activity'] = 'Feeding a shark'\n",
    "tiburon.loc[tiburon['activity'].str.contains('cano', case=False, na=False), 'activity'] = 'Canoe'\n",
    "tiburon.loc[tiburon['activity'].str.contains('Bod', case=False, na=False), 'activity'] = 'Body boarding'"
   ]
  },
  {
   "cell_type": "code",
   "execution_count": 37,
   "id": "c8ee53ac",
   "metadata": {},
   "outputs": [],
   "source": [
    "#Unificacion de valores dentro de la columna Especies\n",
    "tiburon.loc[tiburon['species_'].str.contains('whit', case=False, na=False), 'species_'] = 'White shark.'\n",
    "tiburon.loc[tiburon['species_'].str.contains('tiger', case=False, na=False), 'species_'] = 'Tiger shark.'\n",
    "tiburon.loc[tiburon['species_'].str.contains('mak', case=False, na=False), 'species_'] = 'Mako shark.'\n",
    "tiburon.loc[tiburon['species_'].str.contains('ull', case=False, na=False), 'species_'] = 'Bull shark.'\n",
    "\n",
    "tiburon.loc[tiburon['species_'].str.contains('oppe', case=False, na=False), 'species_'] = 'Cooper shark.'\n",
    "tiburon.loc[tiburon['species_'].str.contains('reef', case=False, na=False), 'species_'] = 'Grey reef shark.'\n",
    "tiburon.loc[tiburon['species_'].str.contains('urse', case=False, na=False), 'species_'] = 'Nurse shark.'\n",
    "tiburon.loc[tiburon['species_'].str.contains('beag', case=False, na=False), 'species_'] = 'Porbeagle shark.'\n",
    "tiburon.loc[tiburon['species_'].str.contains('onze', case=False, na=False), 'species_'] = 'Bronze whaler shark.'\n",
    "tiburon.loc[tiburon['species_'].str.contains('lue', case=False, na=False), 'species_'] = 'Blue shark.'\n",
    "tiburon.loc[tiburon['species_'].str.contains('emon', case=False, na=False), 'species_'] = 'Lemon shark.'\n",
    "tiburon.loc[tiburon['species_'].str.contains('tip', case=False, na=False), 'species_'] = 'Blacktip shark.'\n",
    "tiburon.loc[tiburon['species_'].str.contains('pago', case=False, na=False), 'species_'] = 'Galapagos shark.'\n",
    "tiburon.loc[tiburon['species_'].str.contains('pinner', case=False, na=False), 'species_'] = 'Spinner shark.'\n",
    "tiburon.loc[tiburon['species_'].str.contains('Dusky', case=False, na=False), 'species_'] = 'Dusky shark.'\n",
    "\n",
    "tiburon.loc[tiburon['species_'].str.contains('2.4' or '3.7' or '1.8' or '1.5' or '1.5',  case=False, na=False), 'species_'] = 'Unknown shark.'\n",
    "\n",
    "tiburon.loc[tiburon['species_'].str.contains(\"' shark\", case=False, na=False), 'species_'] = 'Unknown shark.'\n",
    "tiburon.loc[tiburon['species_'].str.contains('small', case=False, na=False), 'species_'] = 'Unknown shark.'\n",
    "tiburon.loc[tiburon['species_'].str.contains(' m ', case=False, na=False), 'species_'] = 'Unknown shark.'\n",
    "tiburon.loc[tiburon['species_'].str.contains('2m', case=False, na=False), 'species_'] = 'Unknown shark.'\n",
    "tiburon.loc[tiburon['species_'].str.contains('pack', case=False, na=False), 'species_'] = 'Unknown shark.'\n",
    "tiburon.loc[tiburon['species_'].str.contains('entified', case=False, na=False), 'species_'] = 'Unknown shark.'\n",
    "tiburon['species_'].fillna('Unknown shark', inplace=True)\n",
    "tiburon.loc[tiburon['species_'].str.contains('known shark', case=False, na=False), 'species_'] = 'Unknown shark.'\n",
    "\n",
    "\n",
    " \n",
    "tiburon.loc[tiburon['species_'].str.contains('stionable', case=False, na=False), 'species_'] = 'We need more information.'\n",
    "tiburon.loc[tiburon['species_'].str.contains('prior', case=False, na=False), 'species_'] = 'We need more information.'\n",
    "tiburon.loc[tiburon['species_'].str.contains('nvali', case=False, na=False), 'species_'] = 'We need more information.'\n",
    "tiburon.loc[tiburon['species_'].str.contains('not confirmed', case=False, na=False), 'species_'] = 'We need more information.'\n"
   ]
  },
  {
   "cell_type": "code",
   "execution_count": 141,
   "id": "f00aff42",
   "metadata": {},
   "outputs": [
    {
     "data": {
      "text/plain": [
       "age\n",
       "53.0    17\n",
       "59.0    17\n",
       "6.0     16\n",
       "61.0    16\n",
       "56.0    15\n",
       "62.0    12\n",
       "68.0    10\n",
       "69.0    10\n",
       "63.0    10\n",
       "70.0    10\n",
       "64.0     9\n",
       "65.0     8\n",
       "5.0      7\n",
       "66.0     7\n",
       "3.0      5\n",
       "73.0     5\n",
       "71.0     4\n",
       "77.0     4\n",
       "75.0     4\n",
       "74.0     3\n",
       "67.0     3\n",
       "4.0      2\n",
       "1.0      2\n",
       "78.0     2\n",
       "82.0     1\n",
       "72.0     1\n",
       "86.0     1\n",
       "84.0     1\n",
       "87.0     1\n",
       "81.0     1\n",
       "Name: count, dtype: int64"
      ]
     },
     "execution_count": 141,
     "metadata": {},
     "output_type": "execute_result"
    }
   ],
   "source": [
    "#Unificacion de valores dentro de la columna COUNTRY\n",
    "tiburon.loc[tiburon['country'].str.contains('rea', case=False, na=False), 'country'] = 'SOUTH KOREA'\n",
    "tiburon.loc[tiburon['country'].str.contains('bri', case=False, na=False), 'country'] = 'GREAT BRITAIN'\n",
    "tiburon.loc[tiburon['country'].str.contains('engl' or  'grans'or 'sco', case=False, na=False), 'country'] = 'GREAT BRITAIN'\n",
    "tiburon.loc[tiburon['country'].str.contains('SEA', case=False, na=False), 'country'] = 'INTERNATIONAL WATERS'\n",
    "tiburon.loc[tiburon['country'].str.contains('ELLES', case=False, na=False), 'country'] = 'SEYCHELLES'\n",
    "tiburon.loc[tiburon['country'].str.contains('ceyl', case=False, na=False), 'country'] = 'SRI LANKA.'\n",
    "tiburon.loc[tiburon['country'].str.contains('PPINES', case=False, na=False), 'country'] = 'PHILIPPINES.'\n"
   ]
  },
  {
   "cell_type": "code",
   "execution_count": 38,
   "id": "b74ca654",
   "metadata": {},
   "outputs": [
    {
     "data": {
      "text/plain": [
       "age\n",
       "Adults                2558\n",
       "Under 18 years old    1178\n",
       "Seniors                 76\n",
       "30s                     12\n",
       "Teen                    11\n",
       "                      ... \n",
       "21 & ?                   1\n",
       "6½                       1\n",
       "30 or 36                 1\n",
       "                         1\n",
       "13 or 14                 1\n",
       "Name: count, Length: 85, dtype: int64"
      ]
     },
     "execution_count": 38,
     "metadata": {},
     "output_type": "execute_result"
    }
   ],
   "source": [
    "#Revisión de tabla AGE\n",
    "tiburon.loc[pd.to_numeric(tiburon['age'], errors='coerce') <= 18, 'age'] = 'Under 18 years old'\n",
    "tiburon.loc[pd.to_numeric(tiburon['age'], errors='coerce') >= 65, 'age'] = 'Seniors'\n",
    "tiburon.loc[pd.to_numeric(tiburon['age'], errors='coerce') <= 65, 'age'] = 'Adults'\n",
    "tiburon['age'].value_counts()"
   ]
  },
  {
   "cell_type": "code",
   "execution_count": 9,
   "id": "a05d4f3d",
   "metadata": {},
   "outputs": [
    {
     "data": {
      "text/plain": [
       "array([nan, 'Between 00:00 and 6:59', 'Between 07 and 11:50',\n",
       "       'Between 12 and 18:50', 'Between 19 and 23:59', 1415, 1300,\n",
       "       'Just before noon', 'Unknown', 'N', ' ', 'Noon', 1500],\n",
       "      dtype=object)"
      ]
     },
     "execution_count": 9,
     "metadata": {},
     "output_type": "execute_result"
    }
   ],
   "source": [
    "#Revisión de tabla TIME. unificarlo por horarios de mañana. 0-7 madrugada. 7-12. tarde 12-7- Noche- 7-12\n",
    "\n",
    "tiburon.loc[tiburon['time'].str.contains('00|01|02|03|04|05|06|sunset|daybreak', case=False, na=False), 'time'] = 'Between 00:00 and 6:59'\n",
    "tiburon.loc[tiburon['time'].str.contains('07|08|09|10|11|morning|AM|A.M|Day', case=False, na=False), 'time'] = 'Between 07 and 11:50'\n",
    "tiburon.loc[tiburon['time'].str.contains('12|13|14|15|16|17|18|dusk|after|Midd|unch|P.M', case=False, na=False), 'time'] = 'Between 12 and 18:50'\n",
    "tiburon.loc[tiburon['time'].str.contains('20|21|22|23|19|ark|sundow|awn|nigh|Evening', case=False, na=False), 'time'] = 'Between 19 and 23:59'\n",
    "tiburon.loc[tiburon['time'].str.contains('X|  |   |\\xa0|--', case=False, na=False), 'time'] = 'Unknown'\n",
    "#tiburon['time'].fillna('Unknown', inplace=True) --> no consigo que funcione correctamente.\n",
    "tiburon['time'].unique()\n",
    "#tiburon['time'].value_counts()"
   ]
  },
  {
   "cell_type": "markdown",
   "id": "d6234317",
   "metadata": {},
   "source": []
  },
  {
   "cell_type": "code",
   "execution_count": 138,
   "id": "41ea4853",
   "metadata": {},
   "outputs": [],
   "source": [
    "tiburon['age'] = pd.to_numeric(tiburon['age'], errors='coerce')"
   ]
  },
  {
   "cell_type": "code",
   "execution_count": 51,
   "id": "e3edf3dd",
   "metadata": {},
   "outputs": [
    {
     "data": {
      "text/plain": [
       "Index(['date', 'year', 'type', 'country', 'state', 'location', 'activity',\n",
       "       'name', 'sex', 'age', 'injury', 'unnamed:_11', 'time', 'species_',\n",
       "       'source', 'pdf', 'href_formula', 'href', 'case_number', 'case_number.1',\n",
       "       'original_order', 'unnamed:_21', 'unnamed:_22'],\n",
       "      dtype='object')"
      ]
     },
     "execution_count": 51,
     "metadata": {},
     "output_type": "execute_result"
    }
   ],
   "source": [
    "tiburon.columns"
   ]
  },
  {
   "cell_type": "code",
   "execution_count": 136,
   "id": "aaca1c94",
   "metadata": {},
   "outputs": [
    {
     "name": "stdout",
     "output_type": "stream",
     "text": [
      "<class 'pandas.core.frame.DataFrame'>\n",
      "RangeIndex: 6959 entries, 0 to 6958\n",
      "Data columns (total 23 columns):\n",
      " #   Column          Non-Null Count  Dtype  \n",
      "---  ------          --------------  -----  \n",
      " 0   date            6934 non-null   object \n",
      " 1   year            6932 non-null   float64\n",
      " 2   type            6916 non-null   object \n",
      " 3   country         6884 non-null   object \n",
      " 4   state           6452 non-null   object \n",
      " 5   location        6370 non-null   object \n",
      " 6   activity        6349 non-null   object \n",
      " 7   name            6715 non-null   object \n",
      " 8   sex             6355 non-null   object \n",
      " 9   age             3944 non-null   object \n",
      " 10  injury          6899 non-null   object \n",
      " 11  unnamed:_11     6373 non-null   object \n",
      " 12  time            3411 non-null   object \n",
      " 13  species_        6959 non-null   object \n",
      " 14  source          6915 non-null   object \n",
      " 15  pdf             6799 non-null   object \n",
      " 16  href_formula    6819 non-null   object \n",
      " 17  href            6796 non-null   object \n",
      " 18  case_number     6798 non-null   object \n",
      " 19  case_number.1   6797 non-null   object \n",
      " 20  original_order  6799 non-null   float64\n",
      " 21  unnamed:_21     1 non-null      object \n",
      " 22  unnamed:_22     2 non-null      object \n",
      "dtypes: float64(2), object(21)\n",
      "memory usage: 1.2+ MB\n"
     ]
    }
   ],
   "source": [
    "tiburon.info()"
   ]
  },
  {
   "cell_type": "code",
   "execution_count": 45,
   "id": "39390bae",
   "metadata": {},
   "outputs": [
    {
     "data": {
      "text/plain": [
       "Index(['date', 'year', 'type', 'country', 'state', 'location', 'activity',\n",
       "       'name', 'sex', 'age', 'injury', 'unnamed:_11', 'time', 'species_',\n",
       "       'source', 'pdf', 'href_formula', 'href', 'case_number', 'case_number.1',\n",
       "       'original_order', 'unnamed:_21', 'unnamed:_22'],\n",
       "      dtype='object')"
      ]
     },
     "execution_count": 45,
     "metadata": {},
     "output_type": "execute_result"
    }
   ],
   "source": [
    "tiburon.columns"
   ]
  }
 ],
 "metadata": {
  "kernelspec": {
   "display_name": "Python 3 (ipykernel)",
   "language": "python",
   "name": "python3"
  },
  "language_info": {
   "codemirror_mode": {
    "name": "ipython",
    "version": 3
   },
   "file_extension": ".py",
   "mimetype": "text/x-python",
   "name": "python",
   "nbconvert_exporter": "python",
   "pygments_lexer": "ipython3",
   "version": "3.11.5"
  }
 },
 "nbformat": 4,
 "nbformat_minor": 5
}
