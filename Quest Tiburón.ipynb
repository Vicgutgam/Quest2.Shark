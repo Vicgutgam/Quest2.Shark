{
 "cells": [
  {
   "cell_type": "code",
   "execution_count": 1,
   "id": "3052a188",
   "metadata": {},
   "outputs": [],
   "source": [
    "import pandas as pd\n",
    "ori_tibu=pd.read_excel('GSAF5.xls')\n",
    "tiburon=ori_tibu"
   ]
  },
  {
   "cell_type": "markdown",
   "id": "78b613c0",
   "metadata": {},
   "source": [
    "1º PASO. Hacemos una copia del contenido."
   ]
  },
  {
   "cell_type": "code",
   "execution_count": 2,
   "id": "ffb772ad",
   "metadata": {},
   "outputs": [],
   "source": [
    "tiburon=ori_tibu"
   ]
  },
  {
   "cell_type": "markdown",
   "id": "fc2974e0",
   "metadata": {},
   "source": [
    "2º PASO: iniciamos la limpieza del mismo. Para ellos pasamos a convertir los nombres de las columnas en minúscolas y sin espacio entre ellos."
   ]
  },
  {
   "cell_type": "code",
   "execution_count": 3,
   "id": "1e5b5a3f",
   "metadata": {},
   "outputs": [],
   "source": [
    "#Vamos a ver si encontramos líneas completas vacías o duplicados."
   ]
  },
  {
   "cell_type": "code",
   "execution_count": 4,
   "id": "4926f7b0",
   "metadata": {},
   "outputs": [],
   "source": [
    "tiburon.columns=tiburon.columns.str.lower().str.replace(\" \",\"_\")"
   ]
  },
  {
   "cell_type": "code",
   "execution_count": 5,
   "id": "41ea4853",
   "metadata": {},
   "outputs": [],
   "source": [
    "#Eliminación de columnas sin contenido importante:\n",
    "tiburon = tiburon.drop('unnamed:_11', axis=1)\n",
    "tiburon = tiburon.drop('unnamed:_21', axis=1)\n",
    "tiburon = tiburon.drop('unnamed:_22', axis=1)\n",
    "tiburon = tiburon.drop('case_number', axis=1)\n",
    "tiburon = tiburon.drop('href_formula', axis=1)\n",
    "tiburon = tiburon.drop('pdf', axis=1)\n",
    "tiburon = tiburon.drop('href', axis=1)\n",
    "tiburon = tiburon.drop('original_order', axis=1)\n",
    "tiburon = tiburon.drop('source', axis=1)\n",
    "tiburon = tiburon.drop('case_number.1', axis=1)"
   ]
  },
  {
   "cell_type": "code",
   "execution_count": 6,
   "id": "52b9b997",
   "metadata": {},
   "outputs": [],
   "source": [
    "tiburon.dropna(how='all',inplace=True)"
   ]
  },
  {
   "cell_type": "markdown",
   "id": "e2294014",
   "metadata": {},
   "source": [
    "3º PASO: organizar las columnas y la información que hay en ella."
   ]
  },
  {
   "cell_type": "code",
   "execution_count": 7,
   "id": "00222ca4",
   "metadata": {},
   "outputs": [],
   "source": [
    "#Unificacion de valores dentro de la columna SEX\n",
    "tiburon['sex'].replace((' nan','.','lli','N'), 0,inplace=True)\n",
    "tiburon['sex'].replace(('M',' M','M x 2','M '), 2 ,inplace=True)\n",
    "tiburon['sex'].replace(('F'), 1,inplace=True)"
   ]
  },
  {
   "cell_type": "code",
   "execution_count": 8,
   "id": "6c1f5185",
   "metadata": {},
   "outputs": [],
   "source": [
    "#Unificacion de valores dentro de la columna INJURY\n",
    "\n",
    "tiburon['injury'].replace(('PROVOKED INCIDENT'),'Unknown.' ,inplace=True)\n",
    "tiburon['injury'].fillna('Unknown.', inplace=True)\n",
    "\n",
    "\n",
    "\n",
    "tiburon.loc[tiburon['injury'].str.contains('remain|bodi|  |information|Disappeared|Missing|Unknown|thought|detail|prior to death|post|prior to death|not recovered', case=False, na=False), 'injury'] = 'Unknown.'\n",
    "\n",
    "tiburon.loc[tiburon['injury'].str.contains('FATAL|No survivors|dead', case=False, na=False), 'injury'] = 'Fatal'\n",
    "\n",
    "tiburon.loc[tiburon['injury'].str.contains('severed|Serious injury|serious injury', case=False, na=False), 'injury'] = 'Severious injury'\n",
    "\n",
    "\n",
    "tiburon.loc[tiburon['injury'].str.contains( 'brok', case=False, na=False), 'injury'] = 'Broken-bones'\n",
    "\n",
    "tiburon.loc[tiburon['injury'].str.contains('lacerations|laceratedLaceration|Lacer', case=False, na=False), 'injury'] = 'Laceraciones'\n",
    "\n",
    "tiburon.loc[tiburon['injury'].str.contains('amputated', case=False, na=False), 'injury'] = 'Amputated'\n",
    "\n",
    "tiburon.loc[tiburon['injury'].str.contains('Bit|Bite|biten|bite|Biten|bitten', case=False, na=False), 'injury'] = 'Bitten'\n",
    "\n",
    "tiburon.loc[tiburon['injury'].str.contains('injury|Injury|injuries|Injuries|injured|wound', case=False, na=False), 'injury'] = 'Injury'\n",
    "\n",
    "\n",
    "tiburon.loc[tiburon['injury'].str.contains('gash|scratch', case=False, na=False), 'injury'] = 'Gash'\n",
    "\n",
    "tiburon.loc[tiburon['injury'].str.contains('nipped', case=False, na=False), 'injury'] = 'Nipped'\n",
    "\n",
    "tiburon.loc[tiburon['injury'].str.contains('Abrasions|abrasions|Abrasion', case=False, na=False), 'injury'] = 'Abrasions'\n",
    "\n",
    "\n",
    "tiburon.loc[tiburon['injury'].str.contains('injuring|abraded|Minor', case=False, na=False), 'injury'] = 'Minor injury'\n",
    "\n",
    "\n",
    "tiburon.loc[tiburon['injury'].str.contains('Brui', case=False, na=False), 'injury'] = 'Bruised'\n",
    "\n",
    "tiburon.loc[tiburon['injury'].str.contains('mort', case=False, na=False), 'injury'] = 'Ataque post-mortem'\n",
    "\n",
    "tiburon.loc[tiburon['injury'].str.contains('Cut', case=False, na=False), 'injury'] = 'Cuts'\n",
    "\n",
    "\n",
    "\n",
    "tiburon.loc[tiburon['injury'].str.contains('kayak|boat|Dinghy', case=False, na=False), 'injury'] = 'Daños materiales'\n",
    "\n",
    "tiburon.loc[tiburon['injury'].str.contains('Puncture|puncture', case=False, na=False), 'injury'] = 'Puncture'\n",
    "\n",
    "\n",
    "tiburon.loc[tiburon['injury'].str.contains('drowning|drowned', case=False, na=False), 'injury'] = 'Drowning'\n",
    "\n",
    "\n",
    "tiburon.loc[tiburon['injury'].str.contains('No Inju|No inury', case=False, na=False), 'injury'] = 'No Injury'\n",
    "\n",
    "causas=['Bitten', 'Injurie', 'Laceraciones', 'Fatal','Unknown.', 'We need more information.', 'Survived', 'Amputated', 'Drowning', 'Minor injury', 'Puncture', 'Cuts', 'Abrasions', 'Gash', 'Broken bones', 'Daños materiales', 'Bruised', 'Nipped', 'No Injury']\n",
    "\n",
    "tiburon['injury'] = tiburon['injury'].apply(lambda x: x if x in  causas else 'Others')\n"
   ]
  },
  {
   "cell_type": "code",
   "execution_count": 9,
   "id": "36dfe972",
   "metadata": {},
   "outputs": [
    {
     "data": {
      "text/plain": [
       "injury\n",
       "Bitten              1588\n",
       "Others              1561\n",
       "Laceraciones        1305\n",
       "Fatal               1206\n",
       "Unknown.             796\n",
       "Survived              97\n",
       "Amputated             65\n",
       "Drowning              58\n",
       "Minor injury          41\n",
       "Cuts                  40\n",
       "Puncture              40\n",
       "Abrasions             39\n",
       "Gash                  30\n",
       "Daños materiales      25\n",
       "Nipped                19\n",
       "Bruised               18\n",
       "No Injury              6\n",
       "Name: count, dtype: int64"
      ]
     },
     "execution_count": 9,
     "metadata": {},
     "output_type": "execute_result"
    }
   ],
   "source": [
    "tiburon['injury'].value_counts().tail(20)"
   ]
  },
  {
   "cell_type": "code",
   "execution_count": 10,
   "id": "e8b5e76d",
   "metadata": {},
   "outputs": [
    {
     "data": {
      "text/plain": [
       "activity\n",
       "Surf               1439\n",
       "Others             1375\n",
       "Fishing            1291\n",
       "Swimming           1233\n",
       "Diving              553\n",
       "Bathing             195\n",
       "Wading              174\n",
       "Snorkeling          129\n",
       "Standing            113\n",
       "Body boarding        77\n",
       "Sea disaster         67\n",
       "Boogie boarding      42\n",
       "Kayaking             39\n",
       "Treading water       33\n",
       "Paddle boarding      32\n",
       "Jumping              31\n",
       "Canoe                28\n",
       "Boogie Boarding      17\n",
       "Walking              17\n",
       "Feeding a shark      15\n",
       "Playing              13\n",
       "Rowing               12\n",
       "Sailing               9\n",
       "Name: count, dtype: int64"
      ]
     },
     "execution_count": 10,
     "metadata": {},
     "output_type": "execute_result"
    }
   ],
   "source": [
    "#Unificacion de valores dentro de la columna ACTIVITY\n",
    "tiburon.loc[tiburon['activity'].str.contains('Swim', case=False, na=False), 'activity'] = 'Swimming'\n",
    "tiburon.loc[tiburon['activity'].str.contains('Bat', case=False, na=False), 'activity'] = 'Bathing'\n",
    "tiburon.loc[tiburon['activity'].str.contains('Sur', case=False, na=False), 'activity'] = 'Surf'\n",
    "tiburon.loc[tiburon['activity'].str.contains('fis' or 'net', case=False, na=False), 'activity'] = 'Fishing'\n",
    "\n",
    "tiburon.loc[tiburon['activity'].str.contains('div', case=False, na=False), 'activity'] = 'Diving'\n",
    "tiburon.loc[tiburon['activity'].str.contains('Fell', case=False, na=False), 'activity'] = 'Fell into the water '\n",
    "tiburon.loc[tiburon['activity'].str.contains('Flo'or 'Treading water', case=False, na=False), 'activity'] = 'Floating '\n",
    "\n",
    "tiburon.loc[tiburon['activity'].str.contains('Paddle', case=False, na=False), 'activity'] = 'Paddle boarding'\n",
    "tiburon.loc[tiburon['activity'].str.contains('Jum', case=False, na=False), 'activity'] = 'Jumping' \n",
    "tiburon.loc[tiburon['activity'].str.contains('Phot' or 'fil', case=False, na=False), 'activity'] = 'Photography and filming' \n",
    "\n",
    "tiburon.loc[tiburon['activity'].str.contains('Air', case=False, na=False), 'activity'] = 'Air Disaster'\n",
    "tiburon.loc[tiburon['activity'].str.contains('Feed', case=False, na=False), 'activity'] = 'Feeding a shark'\n",
    "tiburon.loc[tiburon['activity'].str.contains('cano', case=False, na=False), 'activity'] = 'Canoe'\n",
    "tiburon.loc[tiburon['activity'].str.contains('Bod', case=False, na=False), 'activity'] = 'Body boarding'\n",
    "\n",
    "tiburon.loc[tiburon['activity'].str.contains('disaster|swamped|Lifesaving', case=False, na=False), 'activity'] = 'Sea disaster'\n",
    "\n",
    "\n",
    "\n",
    "actividades_acuaticas = [\"Surf\",\"Fishing\", \"Swimming\",\"Diving\",\"Bathing\",\"Wading\",\"Snorkeling\", \"Standing\", \"Fell into the water\",\"Body boarding\", \"Sea disaster\", \"Floating\", \"Boogie boarding\", \"Kayaking\", \"Treading water\", \"Paddle boarding\", \"Jumping\",  \"Canoe\", \"Walking\", \"Boogie Boarding\", \"Feeding a shark\", \"Playing\", \"Rowing\", \"Sailing\"]\n",
    "tiburon['activity'] = tiburon['activity'].apply(lambda x: x if x in actividades_acuaticas else 'Others')\n",
    "\n",
    "tiburon['activity'].value_counts().head(40)"
   ]
  },
  {
   "cell_type": "code",
   "execution_count": 11,
   "id": "c8ee53ac",
   "metadata": {},
   "outputs": [
    {
     "data": {
      "text/plain": [
       "species\n",
       "Unknown shark.               3795\n",
       "White shark.                  745\n",
       "We need more information.     485\n",
       "Tiger shark.                  327\n",
       "Bull shark.                   214\n",
       "Blacktip shark.               122\n",
       "Nurse shark.                  112\n",
       "Grey reef shark.               78\n",
       "Bronze whaler shark.           72\n",
       "Blue shark.                    60\n",
       "Name: count, dtype: int64"
      ]
     },
     "execution_count": 11,
     "metadata": {},
     "output_type": "execute_result"
    }
   ],
   "source": [
    "#Unificacion de valores dentro de la columna Especies\n",
    "tiburon.rename(columns={\"species_\": \"species\"}, inplace = True)\n",
    "\n",
    "\n",
    "tiburon.loc[tiburon['species'].str.contains('whit', case=False, na=False), 'species'] = 'White shark.'\n",
    "tiburon.loc[tiburon['species'].str.contains('tiger', case=False, na=False), 'species'] = 'Tiger shark.'\n",
    "tiburon.loc[tiburon['species'].str.contains('mak', case=False, na=False), 'species'] = 'Mako shark.'\n",
    "tiburon.loc[tiburon['species'].str.contains('ull', case=False, na=False), 'species'] = 'Bull shark.'\n",
    "\n",
    "tiburon.loc[tiburon['species'].str.contains('oppe', case=False, na=False), 'species'] = 'Cooper shark.'\n",
    "tiburon.loc[tiburon['species'].str.contains('reef', case=False, na=False), 'species'] = 'Grey reef shark.'\n",
    "tiburon.loc[tiburon['species'].str.contains('urse', case=False, na=False), 'species'] = 'Nurse shark.'\n",
    "tiburon.loc[tiburon['species'].str.contains('beag', case=False, na=False), 'species'] = 'Porbeagle shark.'\n",
    "tiburon.loc[tiburon['species'].str.contains('onze', case=False, na=False), 'species'] = 'Bronze whaler shark.'\n",
    "tiburon.loc[tiburon['species'].str.contains('lue', case=False, na=False), 'species'] = 'Blue shark.'\n",
    "tiburon.loc[tiburon['species'].str.contains('emon', case=False, na=False), 'species'] = 'Lemon shark.'\n",
    "tiburon.loc[tiburon['species'].str.contains('tip', case=False, na=False), 'species'] = 'Blacktip shark.'\n",
    "tiburon.loc[tiburon['species'].str.contains('pago', case=False, na=False), 'species'] = 'Galapagos shark.'\n",
    "tiburon.loc[tiburon['species'].str.contains('pinner', case=False, na=False), 'species'] = 'Spinner shark.'\n",
    "tiburon.loc[tiburon['species'].str.contains('Dusky', case=False, na=False), 'species'] = 'Dusky shark.'\n",
    "\n",
    "tiburon.loc[tiburon['species'].str.contains('2.4' or '3.7' or '1.8' or '1.5' or '1.5',  case=False, na=False), 'species_'] = 'Unknown shark.'\n",
    "\n",
    "tiburon.loc[tiburon['species'].str.contains('small', case=False, na=False), 'species'] = 'Unknown shark.'\n",
    "tiburon.loc[tiburon['species'].str.contains(' m ', case=False, na=False), 'species'] = 'Unknown shark.'\n",
    "tiburon.loc[tiburon['species'].str.contains('2m', case=False, na=False), 'species'] = 'Unknown shark.'\n",
    "tiburon.loc[tiburon['species'].str.contains('pack', case=False, na=False), 'species'] = 'Unknown shark.'\n",
    "tiburon.loc[tiburon['species'].str.contains('entified', case=False, na=False), 'species'] = 'Unknown shark.'\n",
    "tiburon['species'].fillna('Unknown shark', inplace=True)\n",
    "tiburon.loc[tiburon['species'].str.contains('known shark', case=False, na=False), 'species'] = 'Unknown shark.'\n",
    "\n",
    "\n",
    " \n",
    "tiburon.loc[tiburon['species'].str.contains('stionable|prior|nvali|not confirmed', case=False, na=False), 'species'] = 'We need more information.'\n",
    "\n",
    "\n"
   ]
  },
  {
   "cell_type": "code",
   "execution_count": 25,
   "id": "f00aff42",
   "metadata": {},
   "outputs": [
    {
     "data": {
      "text/plain": [
       "array(['bahrain', 'bahamas', 'australia', 'south africa', 'usa', 'mexico',\n",
       "       'new zealand', 'egypt', 'belize', 'philippines.',\n",
       "       'international waters', 'spain', 'portugal', 'colombia', 'ecuador',\n",
       "       'french polynesia', 'new caledonia', 'turks and caicos', 'brazil',\n",
       "       'seychelles', 'argentina', 'fiji', 'maldives', 'south korea',\n",
       "       'japan', 'indonesia', 'jamaica', 'thailand', 'columbia',\n",
       "       'costa rica', 'canada', 'jordan', 'st kitts / nevis', 'st martin',\n",
       "       'papua new guinea', 'reunion island', 'israel', 'china', 'samoa',\n",
       "       'ireland', 'italy', 'malaysia', 'libya', nan, 'cuba', 'mauritius',\n",
       "       'solomon islands', 'comoros', 'reunion', 'united kingdom',\n",
       "       'united arab emirates', 'cape verde', 'dominican republic',\n",
       "       'cayman islands', 'aruba', 'mozambique', 'puerto rico',\n",
       "       'atlantic ocean', 'greece', 'st. martin', 'france',\n",
       "       'trinidad & tobago', 'kiribati', 'diego garcia', 'taiwan',\n",
       "       'palestinian territories', 'guam', 'nigeria', 'tonga', 'scotland',\n",
       "       'croatia', 'saudi arabia', 'chile', 'antigua', 'kenya', 'russia',\n",
       "       'turks & caicos', 'united arab emirates (uae)', 'azores', 'malta',\n",
       "       'vietnam', 'madagascar', 'panama', 'somalia', 'nevis', 'norway',\n",
       "       'senegal', 'yemen', 'gulf of aden', 'sierra leone', 'st. maartin',\n",
       "       'grand cayman', 'liberia', 'vanuatu', 'mexico ', 'honduras',\n",
       "       'venezuela', 'sri lanka', ' tonga', 'uruguay', 'india',\n",
       "       'micronesia', 'okinawa', 'tanzania', 'marshall islands',\n",
       "       'egypt / israel', 'hong kong', 'el salvador', 'angola', 'bermuda',\n",
       "       'montenegro', 'iran', 'tunisia', 'namibia', 'north atlantic ocean',\n",
       "       'bangladesh', 'palau', 'western samoa', 'pacific ocean ',\n",
       "       'grenada', 'iraq', 'turkey', 'singapore', 'sudan',\n",
       "       'johnston island', 'south pacific ocean', 'new guinea',\n",
       "       'north pacific ocean', 'federated states of micronesia',\n",
       "       'mid atlantic ocean', 'admiralty islands', 'south atlantic ocean',\n",
       "       'persian gulf', 'pacific ocean', 'nicaragua ', 'maldive islands',\n",
       "       'american samoa', 'andaman / nicobar islandas', 'gabon', 'mayotte',\n",
       "       'north atlantic ocean ', 'the balkans', 'sudan?', 'martinique',\n",
       "       'indian ocean', 'guatemala', 'netherlands antilles',\n",
       "       'northern mariana islands', 'iran / iraq', 'java', 'nicaragua',\n",
       "       'central pacific', 'solomon islands / vanuatu',\n",
       "       'southwest pacific ocean', 'bay of bengal', 'mid-pacifc ocean',\n",
       "       'slovenia', 'curacao', 'iceland', 'italy / croatia', 'barbados',\n",
       "       'monaco', 'guyana', 'haiti', 'san domingo', 'kuwait', 'yemen ',\n",
       "       'falkland islands', 'crete', 'cyprus', 'egypt ', 'west indies',\n",
       "       'burma', 'lebanon', 'paraguay', 'sri lanka.', 'ocean', 'georgia',\n",
       "       'syria', 'tuvalu', 'indian ocean?', 'guinea', 'andaman islands',\n",
       "       'equatorial guinea / cameroon', 'cook islands', 'tobago', 'peru',\n",
       "       'africa', 'algeria', 'coast of africa', 'ghana', 'greenland',\n",
       "       'sweden', 'roatan', 'between portugal & india', 'djibouti',\n",
       "       'bahrein', 'asia?'], dtype=object)"
      ]
     },
     "execution_count": 25,
     "metadata": {},
     "output_type": "execute_result"
    }
   ],
   "source": [
    "#Unificacion de valores dentro de la columna COUNTRY\n",
    "tiburon['country'] = tiburon['country'].str.lower()\n",
    "\n",
    "tiburon.loc[tiburon['country'].str.contains('rea', case=False, na=False), 'country'] = 'SOUTH KOREA'\n",
    "tiburon.loc[tiburon['country'].str.contains('bri|sco', case=False, na=False), 'country'] = 'GREAT BRITAIN'\n",
    "tiburon.loc[tiburon['country'].str.contains('engl' or  'grans'or 'sco', case=False, na=False), 'country'] = 'GREAT BRITAIN'\n",
    "tiburon.loc[tiburon['country'].str.contains('sea|ocean', case=False, na=False), 'country'] = 'INTERNATIONAL WATERS'\n",
    "tiburon.loc[tiburon['country'].str.contains('elle', case=False, na=False), 'country'] = 'SEYCHELLES'\n",
    "tiburon.loc[tiburon['country'].str.contains('ceyl', case=False, na=False), 'country'] = 'SRI LANKA.'\n",
    "tiburon.loc[tiburon['country'].str.contains('PPINES', case=False, na=False), 'country'] = 'PHILIPPINES.'\n",
    "\n",
    "\n",
    "tiburon['country'].unique()"
   ]
  },
  {
   "cell_type": "code",
   "execution_count": 13,
   "id": "b74ca654",
   "metadata": {},
   "outputs": [
    {
     "data": {
      "text/plain": [
       "age\n",
       "Unknown               3002\n",
       "Adults                2626\n",
       "Under 18 years old    1230\n",
       "Seniors                 76\n",
       "Name: count, dtype: int64"
      ]
     },
     "execution_count": 13,
     "metadata": {},
     "output_type": "execute_result"
    }
   ],
   "source": [
    "#Revisión de tabla AGE\n",
    "tiburon['age'].fillna('Unknown.', inplace=True)\n",
    "tiburon.loc[pd.to_numeric(tiburon['age'], errors='coerce') <= 18, 'age'] = 'Under 18 years old'\n",
    "tiburon.loc[pd.to_numeric(tiburon['age'], errors='coerce') >= 65, 'age'] = 'Seniors'\n",
    "tiburon.loc[pd.to_numeric(tiburon['age'], errors='coerce') <= 65, 'age'] = 'Adults'\n",
    "\n",
    "tiburon.loc[tiburon['age'].str.contains('Elderly', case=False, na=False), 'age'] = 'Seniors.'\n",
    "tiburon.loc[tiburon['age'].str.contains('30|20|21|33|23|25|36|46|40|50|60|adu|middle', case=False, na=False), 'age'] = 'Adults'\n",
    "tiburon.loc[tiburon['age'].str.contains('7|8|young|teen|month|9|11|12|13|14|15|6½|2½|!6|!2|16', case=False, na=False), 'age'] = 'Under 18 years old'\n",
    "edades=['Under 18 years old', 'Seniors' , 'Adults']\n",
    "tiburon['age'] = tiburon['age'].apply(lambda x: x if x in edades else 'Unknown')\n",
    "tiburon['age'].value_counts()"
   ]
  },
  {
   "cell_type": "code",
   "execution_count": 14,
   "id": "a05d4f3d",
   "metadata": {},
   "outputs": [
    {
     "data": {
      "text/plain": [
       "time\n",
       "Unknown                   3541\n",
       "Between 00:00 and 6:59    1309\n",
       "Between 12 and 18:50      1180\n",
       "Between 07 and 11:50       738\n",
       "Between 19 and 23:59       166\n",
       "Name: count, dtype: int64"
      ]
     },
     "execution_count": 14,
     "metadata": {},
     "output_type": "execute_result"
    }
   ],
   "source": [
    "#Revisión de tabla TIME.\n",
    "\n",
    "tiburon.loc[tiburon['time'].str.contains('00|01|02|03|04|05|06|sunset|daybreak', case=False, na=False), 'time'] = 'Between 00:00 and 6:59'\n",
    "tiburon.loc[tiburon['time'].str.contains('07|08|09|10|11|morning|AM|A.M|Day', case=False, na=False), 'time'] = 'Between 07 and 11:50'\n",
    "tiburon.loc[tiburon['time'].str.contains('12|13|14|15|16|17|18|dusk|after|Midd|unch|P.M', case=False, na=False), 'time'] = 'Between 12 and 18:50'\n",
    "tiburon.loc[tiburon['time'].str.contains('20|21|22|23|19|ark|sundow|awn|nigh|Evening', case=False, na=False), 'time'] = 'Between 19 and 23:59'\n",
    "\n",
    "tiempo=['Between 00:00 and 6:59','Between 19 and 23:59','Between 12 and 18:50','Between 07 and 11:50']\n",
    "tiburon['time'] = tiburon['time'].apply(lambda x: x if x in  tiempo else 'Unknown')\n",
    "tiburon['time'].fillna('Unknown', inplace=True)\n",
    "tiburon.time.value_counts()"
   ]
  },
  {
   "cell_type": "code",
   "execution_count": 15,
   "id": "39390bae",
   "metadata": {},
   "outputs": [],
   "source": [
    "#Revisión de tabla YEAR.\n",
    "\n",
    "tiburon['year'] = tiburon['year'].astype(str)\n",
    "tiburon[\"year\"] = tiburon[\"year\"].str.replace(\".0\", \"\")\n",
    "tiburon.loc[tiburon['year'].str.contains('nan', case=False, na=False), 'year'] = '0'\n",
    "tiburon['year'] = tiburon['year'].astype(int)\n",
    "\n",
    "tiburon['year'] = tiburon['year'].apply(lambda x: 1500 if x <1600 else x)\n",
    "tiburon['year'] = tiburon['year'].apply(lambda x: 1600 if 1600<= x <1700 else x)\n",
    "tiburon['year'] = tiburon['year'].apply(lambda x: 1700 if 1700<=x <1800 else x)\n",
    "tiburon['year'] = tiburon['year'].apply(lambda x: 1800 if 1800<=x <1900 else x)\n",
    "tiburon['year'] = tiburon['year'].apply(lambda x: 1900 if 1900<=x <1950 else x)\n",
    "tiburon['year'] = tiburon['year'].apply(lambda x: 1950 if 1950<=x <2000 else x)\n",
    "tiburon['year'] = tiburon['year'].apply(lambda x: 2000 if 2000<=x <2010 else x)\n",
    "tiburon['year'] = tiburon['year'].apply(lambda x: 2010 if 2010<=x <2020 else x)\n",
    "tiburon['year'] = tiburon['year'].apply(lambda x: 2020 if 2020<=x <2030 else x)"
   ]
  },
  {
   "cell_type": "markdown",
   "id": "b8c07d6e",
   "metadata": {},
   "source": [
    "INICIO DE LA CREACIÓN DE TABLAS "
   ]
  },
  {
   "cell_type": "code",
   "execution_count": 16,
   "id": "38d9cb11",
   "metadata": {},
   "outputs": [
    {
     "data": {
      "text/html": [
       "<div>\n",
       "<style scoped>\n",
       "    .dataframe tbody tr th:only-of-type {\n",
       "        vertical-align: middle;\n",
       "    }\n",
       "\n",
       "    .dataframe tbody tr th {\n",
       "        vertical-align: top;\n",
       "    }\n",
       "\n",
       "    .dataframe thead th {\n",
       "        text-align: right;\n",
       "    }\n",
       "</style>\n",
       "<table border=\"1\" class=\"dataframe\">\n",
       "  <thead>\n",
       "    <tr style=\"text-align: right;\">\n",
       "      <th></th>\n",
       "      <th>mean</th>\n",
       "    </tr>\n",
       "    <tr>\n",
       "      <th>age</th>\n",
       "      <th></th>\n",
       "    </tr>\n",
       "  </thead>\n",
       "  <tbody>\n",
       "    <tr>\n",
       "      <th>Adults</th>\n",
       "      <td>1.872985</td>\n",
       "    </tr>\n",
       "    <tr>\n",
       "      <th>Seniors</th>\n",
       "      <td>1.776316</td>\n",
       "    </tr>\n",
       "    <tr>\n",
       "      <th>Under 18 years old</th>\n",
       "      <td>1.814203</td>\n",
       "    </tr>\n",
       "    <tr>\n",
       "      <th>Unknown</th>\n",
       "      <td>1.914703</td>\n",
       "    </tr>\n",
       "  </tbody>\n",
       "</table>\n",
       "</div>"
      ],
      "text/plain": [
       "                        mean\n",
       "age                         \n",
       "Adults              1.872985\n",
       "Seniors             1.776316\n",
       "Under 18 years old  1.814203\n",
       "Unknown             1.914703"
      ]
     },
     "execution_count": 16,
     "metadata": {},
     "output_type": "execute_result"
    }
   ],
   "source": [
    "tiburon.groupby( \"age\")['sex'].agg([\"mean\"])"
   ]
  },
  {
   "cell_type": "code",
   "execution_count": null,
   "id": "d13ddc1a",
   "metadata": {},
   "outputs": [],
   "source": []
  },
  {
   "cell_type": "code",
   "execution_count": 17,
   "id": "7944f4c0",
   "metadata": {},
   "outputs": [
    {
     "ename": "TypeError",
     "evalue": "DataFrame.pivot_table() got multiple values for argument 'values'",
     "output_type": "error",
     "traceback": [
      "\u001b[1;31m---------------------------------------------------------------------------\u001b[0m",
      "\u001b[1;31mTypeError\u001b[0m                                 Traceback (most recent call last)",
      "Cell \u001b[1;32mIn[17], line 1\u001b[0m\n\u001b[1;32m----> 1\u001b[0m tablapiv2\u001b[38;5;241m=\u001b[39mtiburon\u001b[38;5;241m.\u001b[39mpivot_table(tiburon, index\u001b[38;5;241m=\u001b[39m[\u001b[38;5;124m'\u001b[39m\u001b[38;5;124mage\u001b[39m\u001b[38;5;124m'\u001b[39m, \u001b[38;5;124m'\u001b[39m\u001b[38;5;124minjury\u001b[39m\u001b[38;5;124m'\u001b[39m], values\u001b[38;5;241m=\u001b[39m\u001b[38;5;124m'\u001b[39m\u001b[38;5;124msex\u001b[39m\u001b[38;5;124m'\u001b[39m, aggfunc\u001b[38;5;241m=\u001b[39m\u001b[38;5;124m'\u001b[39m\u001b[38;5;124mcount\u001b[39m\u001b[38;5;124m'\u001b[39m)\n\u001b[0;32m      2\u001b[0m tablapiv2[\u001b[38;5;124m'\u001b[39m\u001b[38;5;124msex\u001b[39m\u001b[38;5;124m'\u001b[39m]\u001b[38;5;241m=\u001b[39mtablapiv2[\u001b[38;5;124m'\u001b[39m\u001b[38;5;124msex\u001b[39m\u001b[38;5;124m'\u001b[39m]\n\u001b[0;32m      5\u001b[0m tablapiv2\n",
      "\u001b[1;31mTypeError\u001b[0m: DataFrame.pivot_table() got multiple values for argument 'values'"
     ]
    }
   ],
   "source": [
    "tablapiv2=tiburon.pivot_table(tiburon, index=['age', 'injury'], values='sex', aggfunc='count')\n",
    "tablapiv2['sex']=tablapiv2['sex']\n",
    "\n",
    "\n",
    "tablapiv2"
   ]
  },
  {
   "cell_type": "code",
   "execution_count": null,
   "id": "643bd90a",
   "metadata": {},
   "outputs": [],
   "source": [
    "tiburon['time'].value_counts()"
   ]
  },
  {
   "cell_type": "code",
   "execution_count": null,
   "id": "1b6cf02f",
   "metadata": {},
   "outputs": [],
   "source": []
  }
 ],
 "metadata": {
  "kernelspec": {
   "display_name": "Python 3 (ipykernel)",
   "language": "python",
   "name": "python3"
  },
  "language_info": {
   "codemirror_mode": {
    "name": "ipython",
    "version": 3
   },
   "file_extension": ".py",
   "mimetype": "text/x-python",
   "name": "python",
   "nbconvert_exporter": "python",
   "pygments_lexer": "ipython3",
   "version": "3.11.5"
  }
 },
 "nbformat": 4,
 "nbformat_minor": 5
}
