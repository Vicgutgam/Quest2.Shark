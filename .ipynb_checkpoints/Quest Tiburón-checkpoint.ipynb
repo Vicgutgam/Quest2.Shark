{
 "cells": [
  {
   "cell_type": "code",
   "execution_count": 1,
   "id": "3052a188",
   "metadata": {},
   "outputs": [
    {
     "ename": "FileNotFoundError",
     "evalue": "[Errno 2] No such file or directory: 'GSAF5.xls'",
     "output_type": "error",
     "traceback": [
      "\u001b[1;31m---------------------------------------------------------------------------\u001b[0m",
      "\u001b[1;31mFileNotFoundError\u001b[0m                         Traceback (most recent call last)",
      "Cell \u001b[1;32mIn[1], line 2\u001b[0m\n\u001b[0;32m      1\u001b[0m \u001b[38;5;28;01mimport\u001b[39;00m \u001b[38;5;21;01mpandas\u001b[39;00m \u001b[38;5;28;01mas\u001b[39;00m \u001b[38;5;21;01mpd\u001b[39;00m\n\u001b[1;32m----> 2\u001b[0m ori_tibu\u001b[38;5;241m=\u001b[39mpd\u001b[38;5;241m.\u001b[39mread_excel(\u001b[38;5;124m'\u001b[39m\u001b[38;5;124mGSAF5.xls\u001b[39m\u001b[38;5;124m'\u001b[39m)\n\u001b[0;32m      3\u001b[0m tiburon\u001b[38;5;241m=\u001b[39mori_tibu\n",
      "File \u001b[1;32m~\\anaconda3\\Lib\\site-packages\\pandas\\io\\excel\\_base.py:478\u001b[0m, in \u001b[0;36mread_excel\u001b[1;34m(io, sheet_name, header, names, index_col, usecols, dtype, engine, converters, true_values, false_values, skiprows, nrows, na_values, keep_default_na, na_filter, verbose, parse_dates, date_parser, date_format, thousands, decimal, comment, skipfooter, storage_options, dtype_backend)\u001b[0m\n\u001b[0;32m    476\u001b[0m \u001b[38;5;28;01mif\u001b[39;00m \u001b[38;5;129;01mnot\u001b[39;00m \u001b[38;5;28misinstance\u001b[39m(io, ExcelFile):\n\u001b[0;32m    477\u001b[0m     should_close \u001b[38;5;241m=\u001b[39m \u001b[38;5;28;01mTrue\u001b[39;00m\n\u001b[1;32m--> 478\u001b[0m     io \u001b[38;5;241m=\u001b[39m ExcelFile(io, storage_options\u001b[38;5;241m=\u001b[39mstorage_options, engine\u001b[38;5;241m=\u001b[39mengine)\n\u001b[0;32m    479\u001b[0m \u001b[38;5;28;01melif\u001b[39;00m engine \u001b[38;5;129;01mand\u001b[39;00m engine \u001b[38;5;241m!=\u001b[39m io\u001b[38;5;241m.\u001b[39mengine:\n\u001b[0;32m    480\u001b[0m     \u001b[38;5;28;01mraise\u001b[39;00m \u001b[38;5;167;01mValueError\u001b[39;00m(\n\u001b[0;32m    481\u001b[0m         \u001b[38;5;124m\"\u001b[39m\u001b[38;5;124mEngine should not be specified when passing \u001b[39m\u001b[38;5;124m\"\u001b[39m\n\u001b[0;32m    482\u001b[0m         \u001b[38;5;124m\"\u001b[39m\u001b[38;5;124man ExcelFile - ExcelFile already has the engine set\u001b[39m\u001b[38;5;124m\"\u001b[39m\n\u001b[0;32m    483\u001b[0m     )\n",
      "File \u001b[1;32m~\\anaconda3\\Lib\\site-packages\\pandas\\io\\excel\\_base.py:1496\u001b[0m, in \u001b[0;36mExcelFile.__init__\u001b[1;34m(self, path_or_buffer, engine, storage_options)\u001b[0m\n\u001b[0;32m   1494\u001b[0m     ext \u001b[38;5;241m=\u001b[39m \u001b[38;5;124m\"\u001b[39m\u001b[38;5;124mxls\u001b[39m\u001b[38;5;124m\"\u001b[39m\n\u001b[0;32m   1495\u001b[0m \u001b[38;5;28;01melse\u001b[39;00m:\n\u001b[1;32m-> 1496\u001b[0m     ext \u001b[38;5;241m=\u001b[39m inspect_excel_format(\n\u001b[0;32m   1497\u001b[0m         content_or_path\u001b[38;5;241m=\u001b[39mpath_or_buffer, storage_options\u001b[38;5;241m=\u001b[39mstorage_options\n\u001b[0;32m   1498\u001b[0m     )\n\u001b[0;32m   1499\u001b[0m     \u001b[38;5;28;01mif\u001b[39;00m ext \u001b[38;5;129;01mis\u001b[39;00m \u001b[38;5;28;01mNone\u001b[39;00m:\n\u001b[0;32m   1500\u001b[0m         \u001b[38;5;28;01mraise\u001b[39;00m \u001b[38;5;167;01mValueError\u001b[39;00m(\n\u001b[0;32m   1501\u001b[0m             \u001b[38;5;124m\"\u001b[39m\u001b[38;5;124mExcel file format cannot be determined, you must specify \u001b[39m\u001b[38;5;124m\"\u001b[39m\n\u001b[0;32m   1502\u001b[0m             \u001b[38;5;124m\"\u001b[39m\u001b[38;5;124man engine manually.\u001b[39m\u001b[38;5;124m\"\u001b[39m\n\u001b[0;32m   1503\u001b[0m         )\n",
      "File \u001b[1;32m~\\anaconda3\\Lib\\site-packages\\pandas\\io\\excel\\_base.py:1371\u001b[0m, in \u001b[0;36minspect_excel_format\u001b[1;34m(content_or_path, storage_options)\u001b[0m\n\u001b[0;32m   1368\u001b[0m \u001b[38;5;28;01mif\u001b[39;00m \u001b[38;5;28misinstance\u001b[39m(content_or_path, \u001b[38;5;28mbytes\u001b[39m):\n\u001b[0;32m   1369\u001b[0m     content_or_path \u001b[38;5;241m=\u001b[39m BytesIO(content_or_path)\n\u001b[1;32m-> 1371\u001b[0m \u001b[38;5;28;01mwith\u001b[39;00m get_handle(\n\u001b[0;32m   1372\u001b[0m     content_or_path, \u001b[38;5;124m\"\u001b[39m\u001b[38;5;124mrb\u001b[39m\u001b[38;5;124m\"\u001b[39m, storage_options\u001b[38;5;241m=\u001b[39mstorage_options, is_text\u001b[38;5;241m=\u001b[39m\u001b[38;5;28;01mFalse\u001b[39;00m\n\u001b[0;32m   1373\u001b[0m ) \u001b[38;5;28;01mas\u001b[39;00m handle:\n\u001b[0;32m   1374\u001b[0m     stream \u001b[38;5;241m=\u001b[39m handle\u001b[38;5;241m.\u001b[39mhandle\n\u001b[0;32m   1375\u001b[0m     stream\u001b[38;5;241m.\u001b[39mseek(\u001b[38;5;241m0\u001b[39m)\n",
      "File \u001b[1;32m~\\anaconda3\\Lib\\site-packages\\pandas\\io\\common.py:868\u001b[0m, in \u001b[0;36mget_handle\u001b[1;34m(path_or_buf, mode, encoding, compression, memory_map, is_text, errors, storage_options)\u001b[0m\n\u001b[0;32m    859\u001b[0m         handle \u001b[38;5;241m=\u001b[39m \u001b[38;5;28mopen\u001b[39m(\n\u001b[0;32m    860\u001b[0m             handle,\n\u001b[0;32m    861\u001b[0m             ioargs\u001b[38;5;241m.\u001b[39mmode,\n\u001b[1;32m   (...)\u001b[0m\n\u001b[0;32m    864\u001b[0m             newline\u001b[38;5;241m=\u001b[39m\u001b[38;5;124m\"\u001b[39m\u001b[38;5;124m\"\u001b[39m,\n\u001b[0;32m    865\u001b[0m         )\n\u001b[0;32m    866\u001b[0m     \u001b[38;5;28;01melse\u001b[39;00m:\n\u001b[0;32m    867\u001b[0m         \u001b[38;5;66;03m# Binary mode\u001b[39;00m\n\u001b[1;32m--> 868\u001b[0m         handle \u001b[38;5;241m=\u001b[39m \u001b[38;5;28mopen\u001b[39m(handle, ioargs\u001b[38;5;241m.\u001b[39mmode)\n\u001b[0;32m    869\u001b[0m     handles\u001b[38;5;241m.\u001b[39mappend(handle)\n\u001b[0;32m    871\u001b[0m \u001b[38;5;66;03m# Convert BytesIO or file objects passed with an encoding\u001b[39;00m\n",
      "\u001b[1;31mFileNotFoundError\u001b[0m: [Errno 2] No such file or directory: 'GSAF5.xls'"
     ]
    }
   ],
   "source": [
    "import pandas as pd\n",
    "ori_tibu=pd.read_excel('GSAF5.xls')\n",
    "tiburon=ori_tibu"
   ]
  },
  {
   "cell_type": "markdown",
   "id": "78b613c0",
   "metadata": {},
   "source": [
    "1º PASO. Hacemos una copia del contenido."
   ]
  },
  {
   "cell_type": "code",
   "execution_count": null,
   "id": "ffb772ad",
   "metadata": {},
   "outputs": [],
   "source": [
    "tiburon=ori_tibu"
   ]
  },
  {
   "cell_type": "markdown",
   "id": "fc2974e0",
   "metadata": {},
   "source": [
    "2º PASO: iniciamos la limpieza del mismo. Para ellos pasamos a convertir los nombres de las columnas en minúscolas y sin espacio entre ellos."
   ]
  },
  {
   "cell_type": "code",
   "execution_count": null,
   "id": "1e5b5a3f",
   "metadata": {},
   "outputs": [],
   "source": [
    "#Vamos a ver si encontramos líneas completas vacías o duplicados."
   ]
  },
  {
   "cell_type": "code",
   "execution_count": null,
   "id": "4926f7b0",
   "metadata": {},
   "outputs": [],
   "source": [
    "tiburon.columns=tiburon.columns.str.lower().str.replace(\" \",\"_\")"
   ]
  },
  {
   "cell_type": "code",
   "execution_count": null,
   "id": "41ea4853",
   "metadata": {},
   "outputs": [],
   "source": [
    "#Eliminación de columnas sin contenido importante:\n",
    "tiburon = tiburon.drop('unnamed:_11', axis=1)\n",
    "tiburon = tiburon.drop('unnamed:_21', axis=1)\n",
    "tiburon = tiburon.drop('unnamed:_22', axis=1)\n",
    "tiburon = tiburon.drop('case_number', axis=1)\n",
    "tiburon = tiburon.drop('href_formula', axis=1)\n",
    "tiburon = tiburon.drop('pdf', axis=1)\n",
    "tiburon = tiburon.drop('href', axis=1)\n",
    "tiburon = tiburon.drop('original_order', axis=1)\n",
    "tiburon = tiburon.drop('source', axis=1)\n",
    "tiburon = tiburon.drop('case_number.1', axis=1)"
   ]
  },
  {
   "cell_type": "code",
   "execution_count": null,
   "id": "52b9b997",
   "metadata": {},
   "outputs": [],
   "source": [
    "tiburon.dropna(how='all',inplace=True)"
   ]
  },
  {
   "cell_type": "markdown",
   "id": "e2294014",
   "metadata": {},
   "source": [
    "3º PASO: organizar las columnas y la información que hay en ella."
   ]
  },
  {
   "cell_type": "code",
   "execution_count": null,
   "id": "00222ca4",
   "metadata": {},
   "outputs": [],
   "source": [
    "#Unificacion de valores dentro de la columna SEX\n",
    "tiburon['sex'].replace((' nan','.','lli','N'), 0,inplace=True)\n",
    "tiburon['sex'].replace(('M',' M','M x 2','M '), 2 ,inplace=True)\n",
    "tiburon['sex'].replace(('F'), 1,inplace=True)"
   ]
  },
  {
   "cell_type": "code",
   "execution_count": null,
   "id": "6c1f5185",
   "metadata": {},
   "outputs": [],
   "source": [
    "#Unificacion de valores dentro de la columna INJURY\n",
    "\n",
    "tiburon['injury'].replace(('PROVOKED INCIDENT'),'Unknown.' ,inplace=True)\n",
    "tiburon['injury'].fillna('Unknown.', inplace=True)\n",
    "\n",
    "\n",
    "\n",
    "tiburon.loc[tiburon['injury'].str.contains('remain|bodi|  |information|Disappeared|Missing|Unknown|thought|detail|prior to death|post|prior to death|not recovered', case=False, na=False), 'injury'] = 'Unknown.'\n",
    "\n",
    "tiburon.loc[tiburon['injury'].str.contains('FATAL|No survivors|dead', case=False, na=False), 'injury'] = 'Fatal'\n",
    "\n",
    "tiburon.loc[tiburon['injury'].str.contains('severed|Serious injury|serious injury', case=False, na=False), 'injury'] = 'Severious injury'\n",
    "\n",
    "\n",
    "tiburon.loc[tiburon['injury'].str.contains( 'brok', case=False, na=False), 'injury'] = 'Broken-bones'\n",
    "\n",
    "tiburon.loc[tiburon['injury'].str.contains('lacerations|laceratedLaceration|Lacer', case=False, na=False), 'injury'] = 'Laceraciones'\n",
    "\n",
    "tiburon.loc[tiburon['injury'].str.contains('amputated', case=False, na=False), 'injury'] = 'Amputated'\n",
    "\n",
    "tiburon.loc[tiburon['injury'].str.contains('Bit|Bite|biten|bite|Biten|bitten', case=False, na=False), 'injury'] = 'Bitten'\n",
    "\n",
    "tiburon.loc[tiburon['injury'].str.contains('injury|Injury|injuries|Injuries|injured|wound', case=False, na=False), 'injury'] = 'Injury'\n",
    "\n",
    "\n",
    "tiburon.loc[tiburon['injury'].str.contains('gash|scratch', case=False, na=False), 'injury'] = 'Gash'\n",
    "\n",
    "tiburon.loc[tiburon['injury'].str.contains('nipped', case=False, na=False), 'injury'] = 'Nipped'\n",
    "\n",
    "tiburon.loc[tiburon['injury'].str.contains('Abrasions|abrasions|Abrasion', case=False, na=False), 'injury'] = 'Abrasions'\n",
    "\n",
    "\n",
    "tiburon.loc[tiburon['injury'].str.contains('injuring|abraded|Minor', case=False, na=False), 'injury'] = 'Minor injury'\n",
    "\n",
    "\n",
    "tiburon.loc[tiburon['injury'].str.contains('Brui', case=False, na=False), 'injury'] = 'Bruised'\n",
    "\n",
    "tiburon.loc[tiburon['injury'].str.contains('mort', case=False, na=False), 'injury'] = 'Ataque post-mortem'\n",
    "\n",
    "tiburon.loc[tiburon['injury'].str.contains('Cut', case=False, na=False), 'injury'] = 'Cuts'\n",
    "\n",
    "\n",
    "\n",
    "tiburon.loc[tiburon['injury'].str.contains('kayak|boat|Dinghy', case=False, na=False), 'injury'] = 'Daños materiales'\n",
    "\n",
    "tiburon.loc[tiburon['injury'].str.contains('Puncture|puncture', case=False, na=False), 'injury'] = 'Puncture'\n",
    "\n",
    "\n",
    "tiburon.loc[tiburon['injury'].str.contains('drowning|drowned', case=False, na=False), 'injury'] = 'Drowning'\n",
    "\n",
    "\n",
    "tiburon.loc[tiburon['injury'].str.contains('No Inju|No inury', case=False, na=False), 'injury'] = 'No Injury'\n",
    "\n",
    "causas=['Bitten', 'Injurie', 'Laceraciones', 'Fatal','Unknown.', 'We need more information.', 'Survived', 'Amputated', 'Drowning', 'Minor injury', 'Puncture', 'Cuts', 'Abrasions', 'Gash', 'Broken bones', 'Daños materiales', 'Bruised', 'Nipped', 'No Injury']\n",
    "\n",
    "tiburon['injury'] = tiburon['injury'].apply(lambda x: x if x in  causas else 'Others')\n"
   ]
  },
  {
   "cell_type": "code",
   "execution_count": null,
   "id": "36dfe972",
   "metadata": {},
   "outputs": [],
   "source": [
    "tiburon['injury'].value_counts().tail(20)"
   ]
  },
  {
   "cell_type": "code",
   "execution_count": null,
   "id": "e8b5e76d",
   "metadata": {},
   "outputs": [],
   "source": [
    "#Unificacion de valores dentro de la columna ACTIVITY\n",
    "tiburon.loc[tiburon['activity'].str.contains('Swim', case=False, na=False), 'activity'] = 'Swimming'\n",
    "tiburon.loc[tiburon['activity'].str.contains('Bat', case=False, na=False), 'activity'] = 'Bathing'\n",
    "tiburon.loc[tiburon['activity'].str.contains('Sur', case=False, na=False), 'activity'] = 'Surf'\n",
    "tiburon.loc[tiburon['activity'].str.contains('fis' or 'net', case=False, na=False), 'activity'] = 'Fishing'\n",
    "\n",
    "tiburon.loc[tiburon['activity'].str.contains('div', case=False, na=False), 'activity'] = 'Diving'\n",
    "tiburon.loc[tiburon['activity'].str.contains('Fell', case=False, na=False), 'activity'] = 'Fell into the water '\n",
    "tiburon.loc[tiburon['activity'].str.contains('Flo'or 'Treading water', case=False, na=False), 'activity'] = 'Floating '\n",
    "\n",
    "tiburon.loc[tiburon['activity'].str.contains('Paddle', case=False, na=False), 'activity'] = 'Paddle boarding'\n",
    "tiburon.loc[tiburon['activity'].str.contains('Jum', case=False, na=False), 'activity'] = 'Jumping' \n",
    "tiburon.loc[tiburon['activity'].str.contains('Phot' or 'fil', case=False, na=False), 'activity'] = 'Photography and filming' \n",
    "\n",
    "tiburon.loc[tiburon['activity'].str.contains('Air', case=False, na=False), 'activity'] = 'Air Disaster'\n",
    "tiburon.loc[tiburon['activity'].str.contains('Feed', case=False, na=False), 'activity'] = 'Feeding a shark'\n",
    "tiburon.loc[tiburon['activity'].str.contains('cano', case=False, na=False), 'activity'] = 'Canoe'\n",
    "tiburon.loc[tiburon['activity'].str.contains('Bod', case=False, na=False), 'activity'] = 'Body boarding'\n",
    "\n",
    "tiburon.loc[tiburon['activity'].str.contains('disaster|swamped|Lifesaving', case=False, na=False), 'activity'] = 'Sea disaster'\n",
    "\n",
    "\n",
    "\n",
    "actividades_acuaticas = [\"Surf\",\"Fishing\", \"Swimming\",\"Diving\",\"Bathing\",\"Wading\",\"Snorkeling\", \"Standing\", \"Fell into the water\",\"Body boarding\", \"Sea disaster\", \"Floating\", \"Boogie boarding\", \"Kayaking\", \"Treading water\", \"Paddle boarding\", \"Jumping\",  \"Canoe\", \"Walking\", \"Boogie Boarding\", \"Feeding a shark\", \"Playing\", \"Rowing\", \"Sailing\"]\n",
    "tiburon['activity'] = tiburon['activity'].apply(lambda x: x if x in actividades_acuaticas else 'Others')\n",
    "\n",
    "tiburon['activity'].value_counts().head(40)"
   ]
  },
  {
   "cell_type": "code",
   "execution_count": null,
   "id": "c8ee53ac",
   "metadata": {},
   "outputs": [],
   "source": [
    "#Unificacion de valores dentro de la columna Especies\n",
    "tiburon.rename(columns={\"species_\": \"species\"}, inplace = True)\n",
    "\n",
    "\n",
    "tiburon.loc[tiburon['species'].str.contains('whit', case=False, na=False), 'species'] = 'White shark.'\n",
    "tiburon.loc[tiburon['species'].str.contains('tiger', case=False, na=False), 'species'] = 'Tiger shark.'\n",
    "tiburon.loc[tiburon['species'].str.contains('mak', case=False, na=False), 'species'] = 'Mako shark.'\n",
    "tiburon.loc[tiburon['species'].str.contains('ull', case=False, na=False), 'species'] = 'Bull shark.'\n",
    "\n",
    "tiburon.loc[tiburon['species'].str.contains('oppe', case=False, na=False), 'species'] = 'Cooper shark.'\n",
    "tiburon.loc[tiburon['species'].str.contains('reef', case=False, na=False), 'species'] = 'Grey reef shark.'\n",
    "tiburon.loc[tiburon['species'].str.contains('urse', case=False, na=False), 'species'] = 'Nurse shark.'\n",
    "tiburon.loc[tiburon['species'].str.contains('beag', case=False, na=False), 'species'] = 'Porbeagle shark.'\n",
    "tiburon.loc[tiburon['species'].str.contains('onze', case=False, na=False), 'species'] = 'Bronze whaler shark.'\n",
    "tiburon.loc[tiburon['species'].str.contains('lue', case=False, na=False), 'species'] = 'Blue shark.'\n",
    "tiburon.loc[tiburon['species'].str.contains('emon', case=False, na=False), 'species'] = 'Lemon shark.'\n",
    "tiburon.loc[tiburon['species'].str.contains('tip', case=False, na=False), 'species'] = 'Blacktip shark.'\n",
    "tiburon.loc[tiburon['species'].str.contains('pago', case=False, na=False), 'species'] = 'Galapagos shark.'\n",
    "tiburon.loc[tiburon['species'].str.contains('pinner', case=False, na=False), 'species'] = 'Spinner shark.'\n",
    "tiburon.loc[tiburon['species'].str.contains('Dusky', case=False, na=False), 'species'] = 'Dusky shark.'\n",
    "\n",
    "tiburon.loc[tiburon['species'].str.contains('2.4' or '3.7' or '1.8' or '1.5' or '1.5',  case=False, na=False), 'species_'] = 'Unknown shark.'\n",
    "\n",
    "tiburon.loc[tiburon['species'].str.contains('small|known shark| m |2m|pack|entified', case=False, na=False), 'species'] = 'Unknown shark.'\n",
    "\n",
    "tiburon['species'].fillna('Unknown shark', inplace=True)\n",
    "\n",
    "\n",
    "\n",
    " \n",
    "tiburon.loc[tiburon['species'].str.contains('stionable|prior|nvali|not confirmed', case=False, na=False), 'species'] = 'We need more information.'\n",
    "\n",
    "\n"
   ]
  },
  {
   "cell_type": "code",
   "execution_count": null,
   "id": "f00aff42",
   "metadata": {},
   "outputs": [],
   "source": [
    "#Unificacion de valores dentro de la columna COUNTRY\n",
    "tiburon['country'] = tiburon['country'].str.lower()\n",
    "\n",
    "tiburon.loc[tiburon['country'].str.contains('rea', case=False, na=False), 'country'] = 'SOUTH KOREA'\n",
    "tiburon.loc[tiburon['country'].str.contains('bri|sco', case=False, na=False), 'country'] = 'GREAT BRITAIN'\n",
    "tiburon.loc[tiburon['country'].str.contains('engl' or  'grans'or 'sco', case=False, na=False), 'country'] = 'GREAT BRITAIN'\n",
    "tiburon.loc[tiburon['country'].str.contains('sea|ocean', case=False, na=False), 'country'] = 'INTERNATIONAL WATERS'\n",
    "tiburon.loc[tiburon['country'].str.contains('elle', case=False, na=False), 'country'] = 'SEYCHELLES'\n",
    "tiburon.loc[tiburon['country'].str.contains('ceyl', case=False, na=False), 'country'] = 'SRI LANKA.'\n",
    "tiburon.loc[tiburon['country'].str.contains('PPINES', case=False, na=False), 'country'] = 'PHILIPPINES.'\n",
    "\n",
    "\n",
    "tiburon['country'].unique()"
   ]
  },
  {
   "cell_type": "code",
   "execution_count": null,
   "id": "b74ca654",
   "metadata": {},
   "outputs": [],
   "source": [
    "#Revisión de tabla AGE\n",
    "tiburon['age'].fillna('Unknown.', inplace=True)\n",
    "tiburon.loc[pd.to_numeric(tiburon['age'], errors='coerce') <= 18, 'age'] = 'Under 18 years old'\n",
    "tiburon.loc[pd.to_numeric(tiburon['age'], errors='coerce') >= 65, 'age'] = 'Seniors'\n",
    "tiburon.loc[pd.to_numeric(tiburon['age'], errors='coerce') <= 65, 'age'] = 'Adults'\n",
    "\n",
    "tiburon.loc[tiburon['age'].str.contains('Elderly', case=False, na=False), 'age'] = 'Seniors.'\n",
    "tiburon.loc[tiburon['age'].str.contains('30|20|21|33|23|25|36|46|40|50|60|adu|middle', case=False, na=False), 'age'] = 'Adults'\n",
    "tiburon.loc[tiburon['age'].str.contains('7|8|young|teen|month|9|11|12|13|14|15|6½|2½|!6|!2|16', case=False, na=False), 'age'] = 'Under 18 years old'\n",
    "edades=['Under 18 years old', 'Seniors' , 'Adults']\n",
    "tiburon['age'] = tiburon['age'].apply(lambda x: x if x in edades else 'Unknown')\n",
    "tiburon['age'].value_counts()"
   ]
  },
  {
   "cell_type": "code",
   "execution_count": null,
   "id": "a05d4f3d",
   "metadata": {},
   "outputs": [],
   "source": [
    "#Revisión de tabla TIME.\n",
    "\n",
    "tiburon.loc[tiburon['time'].str.contains('00|01|02|03|04|05|06|sunset|daybreak', case=False, na=False), 'time'] = 'Between 00:00 and 6:59'\n",
    "tiburon.loc[tiburon['time'].str.contains('07|08|09|10|11|morning|AM|A.M|Day', case=False, na=False), 'time'] = 'Between 07 and 11:50'\n",
    "tiburon.loc[tiburon['time'].str.contains('12|13|14|15|16|17|18|dusk|after|Midd|unch|P.M', case=False, na=False), 'time'] = 'Between 12 and 18:50'\n",
    "tiburon.loc[tiburon['time'].str.contains('20|21|22|23|19|ark|sundow|awn|nigh|Evening', case=False, na=False), 'time'] = 'Between 19 and 23:59'\n",
    "\n",
    "tiempo=['Between 00:00 and 6:59','Between 19 and 23:59','Between 12 and 18:50','Between 07 and 11:50']\n",
    "tiburon['time'] = tiburon['time'].apply(lambda x: x if x in  tiempo else 'Unknown')\n",
    "tiburon['time'].fillna('Unknown', inplace=True)\n",
    "tiburon.time.value_counts()"
   ]
  },
  {
   "cell_type": "code",
   "execution_count": null,
   "id": "39390bae",
   "metadata": {},
   "outputs": [],
   "source": [
    "#Revisión de tabla YEAR.\n",
    "\n",
    "tiburon['year'] = tiburon['year'].astype(str)\n",
    "tiburon[\"year\"] = tiburon[\"year\"].str.replace(\".0\", \"\")\n",
    "tiburon.loc[tiburon['year'].str.contains('nan', case=False, na=False), 'year'] = '0'\n",
    "tiburon['year'] = tiburon['year'].astype(int)\n",
    "\n",
    "tiburon['year'] = tiburon['year'].apply(lambda x: 1500 if x <1600 else x)\n",
    "tiburon['year'] = tiburon['year'].apply(lambda x: 1600 if 1600<= x <1700 else x)\n",
    "tiburon['year'] = tiburon['year'].apply(lambda x: 1700 if 1700<=x <1800 else x)\n",
    "tiburon['year'] = tiburon['year'].apply(lambda x: 1800 if 1800<=x <1900 else x)\n",
    "tiburon['year'] = tiburon['year'].apply(lambda x: 1900 if 1900<=x <1950 else x)\n",
    "tiburon['year'] = tiburon['year'].apply(lambda x: 1950 if 1950<=x <2000 else x)\n",
    "tiburon['year'] = tiburon['year'].apply(lambda x: 2000 if 2000<=x <2010 else x)\n",
    "tiburon['year'] = tiburon['year'].apply(lambda x: 2010 if 2010<=x <2020 else x)\n",
    "tiburon['year'] = tiburon['year'].apply(lambda x: 2020 if 2020<=x <2030 else x)"
   ]
  },
  {
   "cell_type": "markdown",
   "id": "b8c07d6e",
   "metadata": {},
   "source": [
    "INICIO DE LA CREACIÓN DE TABLAS "
   ]
  },
  {
   "cell_type": "code",
   "execution_count": null,
   "id": "38d9cb11",
   "metadata": {},
   "outputs": [],
   "source": [
    "tiburon.groupby( \"age\")['sex'].agg([\"mean\"])"
   ]
  },
  {
   "cell_type": "code",
   "execution_count": null,
   "id": "d13ddc1a",
   "metadata": {},
   "outputs": [],
   "source": []
  },
  {
   "cell_type": "code",
   "execution_count": null,
   "id": "7944f4c0",
   "metadata": {},
   "outputs": [],
   "source": [
    "tablapiv2=tiburon.pivot_table(tiburon, index=['age', 'injury'], values='sex', aggfunc='count')\n",
    "tablapiv2['sex']=tablapiv2['sex']\n",
    "\n",
    "\n",
    "tablapiv2"
   ]
  },
  {
   "cell_type": "code",
   "execution_count": null,
   "id": "643bd90a",
   "metadata": {},
   "outputs": [],
   "source": [
    "tiburon['time'].value_counts()"
   ]
  },
  {
   "cell_type": "code",
   "execution_count": null,
   "id": "1b6cf02f",
   "metadata": {},
   "outputs": [],
   "source": []
  }
 ],
 "metadata": {
  "kernelspec": {
   "display_name": "Python 3 (ipykernel)",
   "language": "python",
   "name": "python3"
  },
  "language_info": {
   "codemirror_mode": {
    "name": "ipython",
    "version": 3
   },
   "file_extension": ".py",
   "mimetype": "text/x-python",
   "name": "python",
   "nbconvert_exporter": "python",
   "pygments_lexer": "ipython3",
   "version": "3.11.5"
  }
 },
 "nbformat": 4,
 "nbformat_minor": 5
}
